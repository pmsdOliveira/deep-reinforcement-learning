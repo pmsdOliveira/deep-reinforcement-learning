{
 "cells": [
  {
   "cell_type": "markdown",
   "metadata": {},
   "source": [
    "# Listing 1\n",
    "## Setting up a discrete probability distribution in numpy"
   ]
  },
  {
   "cell_type": "code",
   "execution_count": 1,
   "metadata": {},
   "outputs": [
    {
     "data": {
      "text/plain": [
       "<BarContainer object of 51 artists>"
      ]
     },
     "execution_count": 1,
     "metadata": {},
     "output_type": "execute_result"
    },
    {
     "data": {
      "image/png": "[encoded data removed]",
      "text/plain": [
       "<Figure size 432x288 with 1 Axes>"
      ]
     },
     "metadata": {
      "needs_background": "light"
     },
     "output_type": "display_data"
    }
   ],
   "source": [
    "import torch\n",
    "import numpy as np\n",
    "from matplotlib import pyplot as plt\n",
    "\n",
    "vmin, vmax = -10., 10. # sets the minimum and maximum values of the support of the distribution\n",
    "nsup = 51 # sets up the number of elements of the support\n",
    "support = np.linspace(vmin, vmax, nsup) # creates the support tensor, a tensor of evenly spaced values from -10 to +10\n",
    "probs = np.ones(nsup)\n",
    "probs /= probs.sum()\n",
    "z3 = torch.from_numpy(probs).float()\n",
    "plt.bar(support, probs) # plots the distribution as a bar plot"
   ]
  },
  {
   "cell_type": "markdown",
   "metadata": {},
   "source": [
    "# Listing 2\n",
    "## Updating a probability distribution"
   ]
  },
  {
   "cell_type": "code",
   "execution_count": 2,
   "metadata": {},
   "outputs": [],
   "source": [
    "def update_dist(r, support, probs, lim=(-10., 10.), gamma=0.8):\n",
    "    nsup = probs.shape[0]\n",
    "    vmin, vmax = lim[0], lim[1]\n",
    "    dz = (vmax - vmin) / (nsup - 1.) # calculates the support spacing value\n",
    "    bj = np.round((r - vmin) / dz) # calculates the index value of the observed reward in the support\n",
    "    bj = int(np.clip(bj, 0, nsup - 1)) # rounds and clips the value to make sure it is a valid index value for the support\n",
    "    m = probs.clone()\n",
    "    j = 1\n",
    "    for i in range(bj, 1, -1): # starting from the immediate left neighbor, steals part of its probability\n",
    "        m[i] += np.power(gamma, j) * m[i - 1]\n",
    "        j += 1\n",
    "    j = 1\n",
    "    for i in range(bj, nsup - 1, 1): # starting from the immediate right neighbor, steals part of its probability\n",
    "        m[i] += np.power(gamma, j) * m[i + 1]\n",
    "        j += 1\n",
    "    m /= m.sum() # divides by the sum to make sure it sums to 1\n",
    "    return m"
   ]
  },
  {
   "cell_type": "markdown",
   "metadata": {},
   "source": [
    "# Listing 3\n",
    "## Redistributing probability mass after a single observation"
   ]
  },
  {
   "cell_type": "code",
   "execution_count": 3,
   "metadata": {},
   "outputs": [
    {
     "data": {
      "text/plain": [
       "<BarContainer object of 51 artists>"
      ]
     },
     "execution_count": 3,
     "metadata": {},
     "output_type": "execute_result"
    },
    {
     "data": {
      "image/png": "[encoded data removed]",
      "text/plain": [
       "<Figure size 432x288 with 1 Axes>"
      ]
     },
     "metadata": {
      "needs_background": "light"
     },
     "output_type": "display_data"
    }
   ],
   "source": [
    "ob_reward = -1\n",
    "Z = torch.from_numpy(probs).float()\n",
    "Z = update_dist(ob_reward, torch.from_numpy(support).float(), Z, lim=(vmin, vmax), gamma=0.1)\n",
    "plt.bar(support, Z)"
   ]
  },
  {
   "cell_type": "markdown",
   "metadata": {},
   "source": [
    "# Listing 4\n",
    "## Redistributing probability mass with a sequence of observations"
   ]
  },
  {
   "cell_type": "code",
   "execution_count": 4,
   "metadata": {},
   "outputs": [
    {
     "data": {
      "text/plain": [
       "<BarContainer object of 51 artists>"
      ]
     },
     "execution_count": 4,
     "metadata": {},
     "output_type": "execute_result"
    },
    {
     "data": {
      "image/png": "[encoded data removed]",
      "text/plain": [
       "<Figure size 432x288 with 1 Axes>"
      ]
     },
     "metadata": {
      "needs_background": "light"
     },
     "output_type": "display_data"
    }
   ],
   "source": [
    "ob_rewards = [10, 10, 10, 0, 1, 0, -10, -10, 10, 10]\n",
    "for i in range(len(ob_rewards)):\n",
    "    Z = update_dist(ob_rewards[i], torch.from_numpy(support).float(), Z, lim=(vmin, vmax), gamma=0.5)\n",
    "plt.bar(support, Z)"
   ]
  },
  {
   "cell_type": "markdown",
   "metadata": {},
   "source": [
    "# Listing 5\n",
    "## Decreased variance with sequence of same reward"
   ]
  },
  {
   "cell_type": "code",
   "execution_count": 5,
   "metadata": {},
   "outputs": [
    {
     "data": {
      "text/plain": [
       "<BarContainer object of 51 artists>"
      ]
     },
     "execution_count": 5,
     "metadata": {},
     "output_type": "execute_result"
    },
    {
     "data": {
      "image/png": "[encoded data removed]",
      "text/plain": [
       "<Figure size 432x288 with 1 Axes>"
      ]
     },
     "metadata": {
      "needs_background": "light"
     },
     "output_type": "display_data"
    }
   ],
   "source": [
    "ob_rewards = [5, 5, 5, 5, 5, 5, 5, 5, 5, 5, 5, 5, 5, 5, 5, 5, 5, 5, 5, 5]\n",
    "for i in range(len(ob_rewards)):\n",
    "    Z = update_dist(ob_rewards[i], torch.from_numpy(support).float(), Z, lim=(vmin, vmax), gamma=0.7)\n",
    "plt.bar(support, Z)"
   ]
  },
  {
   "cell_type": "markdown",
   "metadata": {},
   "source": [
    "# Listing 6\n",
    "## The Dist-DQN"
   ]
  },
  {
   "cell_type": "code",
   "execution_count": 6,
   "metadata": {},
   "outputs": [],
   "source": [
    "def dist_dqn(x, theta, aspace=3): # x is the 128-element vector state, theta is the parameter vector and aspace is the size of the action space\n",
    "    dim0, dim1, dim2, dim3 = 128, 100, 25, 51 # defies the layer dimensions so we can unpack theta into appropriately sized matrices\n",
    "    t1 = dim0 * dim1\n",
    "    t2 = dim2 * dim1\n",
    "    theta1 = theta[0 : t1].reshape(dim0, dim1) # unpacks the first portion of theta into the first layer matrix\n",
    "    theta2 = theta[t1 : t1 + t2].reshape(dim1, dim2)\n",
    "    l1 = x @ theta1 # the dimensions of this computation are B x 128 x 128 x 100 = B x 100, where B is the batch size\n",
    "    l1 = torch.selu(l1)\n",
    "    l2 = l1 @ theta2 # the dimensions of this computation are B x 100 x 100 x 25 = B x 25\n",
    "    l2 = torch.selu(l2)\n",
    "    l3 = []\n",
    "    for i in range(aspace): # loops through each action to generate each action-value distribution\n",
    "        step = dim2 * dim3\n",
    "        theta5_dim = t1 + t2 + i * step\n",
    "        theta5 = theta[theta5_dim : theta5_dim + step].reshape(dim2, dim3)\n",
    "        l3_ = l2 @ theta5 # the dimensions of this computation are B x 25 x 25 x 51 = B x 51\n",
    "        l3.append(l3_)\n",
    "    l3 = torch.stack(l3, dim = 1) # the dimensions of the last layer are B x 3 x 51\n",
    "    l3 = torch.nn.functional.softmax(l3, dim = 2)\n",
    "    return l3.squeeze()"
   ]
  },
  {
   "cell_type": "markdown",
   "metadata": {},
   "source": [
    "# Listing 7\n",
    "## Computing the target distribution"
   ]
  },
  {
   "cell_type": "code",
   "execution_count": 7,
   "metadata": {},
   "outputs": [],
   "source": [
    "def get_target_dist(dist_batch, action_batch, reward_batch, support, lim=(-10, 10), gamma=0.8):\n",
    "    nsup = support.shape[0]\n",
    "    vmin, vmax = lim[0], lim[1]\n",
    "    dz = (vmax - vmin) / (nsup - 1.)\n",
    "    target_dist_batch = dist_batch.clone()\n",
    "    for i in range(dist_batch.shape[0]): # loops through the batch dimension\n",
    "        dist_full = dist_batch[i]\n",
    "        action = int(action_batch[i].item())\n",
    "        dist = dist_full[action]\n",
    "        r = reward_batch[i]\n",
    "        if r != -1: # if the reward is not -1, it is a terminal state and the target is a degenerate distribution at the reward value\n",
    "            target_dist = torch.zeros(nsup)\n",
    "            bj = np.round((r - vmin) / dz)\n",
    "            bj = int(np.clip(bj, 0, nsup - 1))\n",
    "            target_dist[bj] = 1.\n",
    "        else: # if the state is nonterminal, the target distribution is a Bayesian update of the prior given the reward\n",
    "            target_dist = update_dist(r, support, dist, lim=lim, gamma=gamma)\n",
    "        target_dist_batch[i, action, : ] = target_dist # only changes the distribution for the action that was taken\n",
    "    return target_dist_batch"
   ]
  },
  {
   "cell_type": "markdown",
   "metadata": {},
   "source": [
    "# Listing 8\n",
    "## The cross-entropy loss function"
   ]
  },
  {
   "cell_type": "code",
   "execution_count": 8,
   "metadata": {},
   "outputs": [],
   "source": [
    "def lossfn(x, y): # loss between prediction distribution x and target distribution y\n",
    "    loss = torch.Tensor([0.])\n",
    "    loss.requires_grad = True\n",
    "    for i in range(x.shape[0]): # loops through batch dimension\n",
    "        loss_ = -1 * torch.log(x[i].flatten(start_dim = 0)) @ y[i].flatten(start_dim = 0)\n",
    "        loss = loss + loss_\n",
    "    return loss"
   ]
  },
  {
   "cell_type": "markdown",
   "metadata": {},
   "source": [
    "# Listing 9\n",
    "## Testing with simulated data"
   ]
  },
  {
   "cell_type": "code",
   "execution_count": 9,
   "metadata": {},
   "outputs": [
    {
     "data": {
      "text/plain": [
       "<matplotlib.legend.Legend at 0x174a548d130>"
      ]
     },
     "execution_count": 9,
     "metadata": {},
     "output_type": "execute_result"
    },
    {
     "data": {
      "image/png": "[encoded data removed]",
      "text/plain": [
       "<Figure size 432x288 with 1 Axes>"
      ]
     },
     "metadata": {
      "needs_background": "light"
     },
     "output_type": "display_data"
    }
   ],
   "source": [
    "aspace = 3 # defines the action space to be of size 3\n",
    "tot_params = 128 * 100 + 25 * 100 + aspace * 25 * 51 # defines the total number of Dist-DQN parameters based on layer sizes\n",
    "theta = torch.randn(tot_params) / 10. # randomly initializes a parameter vector for Dist-DQN\n",
    "theta.requires_grad = True\n",
    "theta_2 = theta.detach().clone() # clones theta to use as target network\n",
    "vmin, vmax = -10, 10\n",
    "gamma = 0.9\n",
    "lr = 0.00001\n",
    "update_rate = 75 # synchronizes the main and target Dist-DQN parameters every 75 steps\n",
    "support = torch.linspace(-10, 10, 51)\n",
    "state = torch.randn(2, 128) / 10. # randomly initializes two states for testing\n",
    "action_batch = torch.Tensor([0, 2]) # creates synthetic action data\n",
    "reward_batch = torch.Tensor([0, 10]) # creates synthetic reward data\n",
    "losses = []\n",
    "pred_batch = dist_dqn(state, theta, aspace=aspace) # initializes a prediction batch\n",
    "target_dist = get_target_dist(pred_batch, action_batch, reward_batch, support, lim=(vmin, vmax), gamma=gamma) # initializes a target batch\n",
    "\n",
    "plt.plot(target_dist.flatten(start_dim = 1)[0].data.numpy(), color='red', label='target')\n",
    "plt.plot(pred_batch.flatten(start_dim = 1)[0].data.numpy(), color='green', label='pred')\n",
    "plt.legend()"
   ]
  },
  {
   "cell_type": "markdown",
   "metadata": {},
   "source": [
    "# Listing 10\n",
    "## Dist-DQN training on synthetic data"
   ]
  },
  {
   "cell_type": "code",
   "execution_count": 10,
   "metadata": {},
   "outputs": [
    {
     "data": {
      "text/plain": [
       "[<matplotlib.lines.Line2D at 0x174a55728b0>]"
      ]
     },
     "execution_count": 10,
     "metadata": {},
     "output_type": "execute_result"
    },
    {
     "data": {
      "image/png": "[encoded data removed]",
      "text/plain": [
       "<Figure size 432x288 with 2 Axes>"
      ]
     },
     "metadata": {
      "needs_background": "light"
     },
     "output_type": "display_data"
    }
   ],
   "source": [
    "for i in range(1000):\n",
    "    reward_batch = torch.Tensor([0, 8]) + torch.randn(2) / 10.0 # adds some random noise to the rewards to mitigate overfitting\n",
    "    pred_batch = dist_dqn(state, theta, aspace=aspace) # uses the main model Dist-DQN to make distribution predictions\n",
    "    pred_batch2 = dist_dqn(state, theta_2, aspace=aspace) # uses the target network Dist-DQN to make distribution predictions (using lagged parameters)\n",
    "    target_dist = get_target_dist(pred_batch2, action_batch, reward_batch, support, lim=(vmin, vmax), gamma=gamma) # uses the target network's distributions to create the target distribution for learning\n",
    "    loss = lossfn(pred_batch, target_dist.detach()) # uses the main model's distribution prediction in the loss function\n",
    "    losses.append(loss.item())\n",
    "    loss.backward()\n",
    "    # gradient descent\n",
    "    with torch.no_grad():\n",
    "        theta -= lr * theta.grad\n",
    "    theta.requires_grad = True\n",
    "    \n",
    "    if i % update_rate == 0: # synchronizes the target network parameters with the main model parameters\n",
    "        theta_2 = theta.detach().clone()\n",
    "        \n",
    "fig, ax = plt.subplots(1, 2)\n",
    "ax[0].plot(target_dist.flatten(start_dim = 1)[0].data.numpy(), color='red', label='target')\n",
    "ax[0].plot(pred_batch.flatten(start_dim = 1)[0].data.numpy(), color='green', label='pred')\n",
    "ax[1].plot(losses)"
   ]
  },
  {
   "cell_type": "markdown",
   "metadata": {},
   "source": [
    "# Listing 11\n",
    "## Visualizing the learned action-value distributions"
   ]
  },
  {
   "cell_type": "code",
   "execution_count": 11,
   "metadata": {},
   "outputs": [
    {
     "data": {
      "image/png": "[encoded data removed]",
      "text/plain": [
       "<Figure size 432x288 with 6 Axes>"
      ]
     },
     "metadata": {
      "needs_background": "light"
     },
     "output_type": "display_data"
    }
   ],
   "source": [
    "tpred = pred_batch\n",
    "cs = ['gray', 'green', 'red']\n",
    "num_batch = 2\n",
    "labels = ['Action {}'.format(i, ) for i in range(aspace)]\n",
    "fig, ax = plt.subplots(nrows=num_batch, ncols=aspace)\n",
    "\n",
    "for j in range(num_batch):\n",
    "    for i in range(tpred.shape[1]):\n",
    "        ax[j, i].bar(support.data.numpy(), tpred[j, i, : ].data.numpy(), label='Action {}'.format(i), alpha=0.9, color=cs[i])"
   ]
  },
  {
   "cell_type": "markdown",
   "metadata": {},
   "source": [
    "# Listing 12\n",
    "## Preprocessing states and selecting actions"
   ]
  },
  {
   "cell_type": "code",
   "execution_count": 17,
   "metadata": {},
   "outputs": [],
   "source": [
    "def preproc_state(state):\n",
    "    p_state = torch.from_numpy(state).unsqueeze(dim=0).float()\n",
    "    p_state = torch.nn.functional.normalize(p_state, dim=1) # normalizes state values to be between 0 and 1\n",
    "    return p_state\n",
    "\n",
    "def get_action(dist, support):\n",
    "    actions = []\n",
    "    for b in range(dist.shape[0]): # loops through batch dimension of distribution\n",
    "        expectations = [support @ dist[b, a, : ] for a in range(dist.shape[1])] # computes the expectation values for each action-value distribution\n",
    "        action = int(np.argmax(expectations)) # computes the action associated with the highest expectation value\n",
    "        actions.append(action)\n",
    "    actions = torch.Tensor(actions).int()\n",
    "    return actions"
   ]
  },
  {
   "cell_type": "markdown",
   "metadata": {},
   "source": [
    "# Listing 13\n",
    "## Dist-DQN plays Freeway, preliminaries"
   ]
  },
  {
   "cell_type": "code",
   "execution_count": 20,
   "metadata": {},
   "outputs": [],
   "source": [
    "import gym\n",
    "from collections import deque\n",
    "\n",
    "env = gym.make('Freeway-ram-v0')\n",
    "aspace = 3\n",
    "env.env.get_action_meanings()\n",
    "\n",
    "vmin, vmax = -10, 10\n",
    "replay_size = 200\n",
    "batch_size = 50\n",
    "nsup = 51\n",
    "dz = (vmax - vmin) / (nsup - 1)\n",
    "support = torch.linspace(vmin, vmax, nsup)\n",
    "\n",
    "replay = deque(maxlen=replay_size) # experience replay buffer using the deque data structure\n",
    "lr = 0.0001 # learning rate\n",
    "gamma = 0.1 # discount factor\n",
    "epochs = 1300\n",
    "eps = 0.20 # starting epsilon for epsilon-greedy strategy\n",
    "eps_min = 0.05 # ending / minimum epsilon\n",
    "priority_level = 5 # prioritized-replay; duplicates highly informative experiences in the replay this many times\n",
    "update_freq = 25 # updates the target network every 25 steps\n",
    "\n",
    "# initialize DQN parameter vector\n",
    "tot_params = 128 * 100 + 25 * 100 + aspace * 25 * 51 # the total number of parameters for Dist-DQN\n",
    "theta = torch.randn(tot_params) / 10. # randomly initializes parameters for Dist-DQN\n",
    "theta.requires_grad = True\n",
    "theta_2 = theta.detach().clone() # initializes parameters for target network\n",
    "\n",
    "losses = []\n",
    "rewards = [] # stores each win (successful freeway crossing) as a 1 in this list\n",
    "renders = []\n",
    "state = preproc_state(env.reset())"
   ]
  },
  {
   "cell_type": "markdown",
   "metadata": {},
   "source": [
    "# Listing 14\n",
    "## The main training loop"
   ]
  },
  {
   "cell_type": "code",
   "execution_count": 21,
   "metadata": {},
   "outputs": [],
   "source": [
    "from random import shuffle\n",
    "\n",
    "for i in range(epochs):\n",
    "    pred = dist_dqn(state, theta, aspace=aspace)\n",
    "    if i < replay_size or np.random.rand(1) < eps: # epsilon-greedy action selection\n",
    "        action = np.random.randint(aspace)\n",
    "    else:\n",
    "        action = get_action(pred.unsqueeze(dim=0).detach(), support).item()\n",
    "    state2, reward, done, info = env.step(action) # takes selected action in the environment\n",
    "    state2 = preproc_state(state2)\n",
    "    \n",
    "    if reward == 1:\n",
    "        rewards.append(1)\n",
    "    reward = 10 if reward == 1 else reward # changes reward to +10 if environment produced reward of 1 (successful freeway crossing)\n",
    "    reward = -10 if done else reward # changes reward to -10 if game is over (no crossings after a long time)\n",
    "    reward = -1 if reward == 0 else reward # changes reward to -1 if original reward was 0 (game is just continuing) to penalize doing nothing\n",
    "    exp = (state, action, reward, state2) # prepares experience as a tuple of the starting state, the observed reward, the action taken and the subsequent state\n",
    "    replay.append(exp) # adds experience to replay memory\n",
    "    \n",
    "    if reward == 10: # if reward is 10, that indicates a successful crossing and we want to amplify this experience\n",
    "        for e in range(priority_level):\n",
    "            replay.append(exp)       \n",
    "    shuffle(replay)\n",
    "    state = state2\n",
    "    \n",
    "    if len(replay) == replay_size: # once replay buffer is full, begins training\n",
    "        indx = np.random.randint(low=0, high=len(replay), size=batch_size)\n",
    "        exps = [replay[j] for j in indx]\n",
    "        state_batch = torch.stack([ex[0] for ex in exps], dim=1).squeeze()\n",
    "        action_batch = torch.Tensor([ex[1] for ex in exps])\n",
    "        reward_batch = torch.Tensor([ex[2] for ex in exps])\n",
    "        state2_batch = torch.stack([ex[3] for ex in exps], dim=1).squeeze()\n",
    "        pred_batch = dist_dqn(state_batch.detach(), theta, aspace=aspace)\n",
    "        pred2_batch = dist_dqn(state2_batch.detach(), theta_2, aspace=aspace)\n",
    "        target_dist = get_target_dist(pred2_batch, action_batch, reward_batch, support, lim=(vmin, vmax), gamma=gamma)\n",
    "        loss = lossfn(pred_batch, target_dist.detach())\n",
    "        losses.append(loss.item())\n",
    "        loss.backward()\n",
    "        \n",
    "        with torch.no_grad(): # gradient descent\n",
    "            theta -= lr * theta.grad\n",
    "        theta.requires_grad = True\n",
    "        \n",
    "    if i % update_freq == 0: # synchronizes the target network parameters to the main model parameters\n",
    "        theta_2 = theta.detach().clone()\n",
    "    \n",
    "    if i > 100 and eps > eps_min: # decrements epsilon as a function of the epoch number\n",
    "        dec = 1./np.log2(i)\n",
    "        dec /= 1e3\n",
    "        eps -= dec\n",
    "        \n",
    "    if done: # resets the environment if the game is over\n",
    "        state = preproc_state(env.reset())\n",
    "        done = False"
   ]
  },
  {
   "cell_type": "code",
   "execution_count": 22,
   "metadata": {},
   "outputs": [
    {
     "data": {
      "text/plain": [
       "[<matplotlib.lines.Line2D at 0x174a62d7400>]"
      ]
     },
     "execution_count": 22,
     "metadata": {},
     "output_type": "execute_result"
    },
    {
     "data": {
      "image/png": "[encoded data removed]",
      "text/plain": [
       "<Figure size 432x288 with 1 Axes>"
      ]
     },
     "metadata": {
      "needs_background": "light"
     },
     "output_type": "display_data"
    }
   ],
   "source": [
    "plt.plot(losses)"
   ]
  },
  {
   "cell_type": "code",
   "execution_count": null,
   "metadata": {},
   "outputs": [],
   "source": []
  }
 ],
 "metadata": {
  "kernelspec": {
   "display_name": "Python 3",
   "language": "python",
   "name": "python3"
  },
  "language_info": {
   "codemirror_mode": {
    "name": "ipython",
    "version": 3
   },
   "file_extension": ".py",
   "mimetype": "text/x-python",
   "name": "python",
   "nbconvert_exporter": "python",
   "pygments_lexer": "ipython3",
   "version": "3.8.3"
  }
 },
 "nbformat": 4,
 "nbformat_minor": 4
}
