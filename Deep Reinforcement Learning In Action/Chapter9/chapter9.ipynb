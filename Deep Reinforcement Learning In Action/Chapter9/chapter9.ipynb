{
 "cells": [
  {
   "cell_type": "markdown",
   "metadata": {},
   "source": [
    "# Listing 1\n",
    "## Pseudocode for neighborhood Q-learning, part 1"
   ]
  },
  {
   "cell_type": "raw",
   "metadata": {},
   "source": [
    "# initialize actions for all agents\n",
    "for j in agents: # iterates through all the agents in the environment stored in a list\n",
    "    state = environment.get_state() # retrieves the current environment state\n",
    "    neighbors = get_neighbors(j, num=3) # this function will find the closest 3 agents to agent j\n",
    "    joint_action = get_joint_action(neighbors) # this function will return the joint action of agent j's neighbors\n",
    "    q_values = Q(state, joint_action) # gets Q values for each action of agent j given the state joint action of its neighbors\n",
    "    j.action = policy(values) # this function will return a discrete action using the Q values\n",
    "    environment.take_action(j.action)\n",
    "    reward = environment.get_reward()"
   ]
  },
  {
   "cell_type": "markdown",
   "metadata": {},
   "source": [
    "# Listing 2\n",
    "## Pseudocode for neighborhood Q-learning, part 2"
   ]
  },
  {
   "cell_type": "raw",
   "metadata": {},
   "source": [
    "# initialize actions for all agents\n",
    "for m in range(M): # iterates through process of computing joint actions and Q values a few times to dilute initial randomness\n",
    "    for j in agents:\n",
    "        state = environment.get_state()\n",
    "        neighbors = get_neighbors(j, num=3)\n",
    "        joint_actions = get_joint_action(neighbors)\n",
    "        q_values = Q(state, joint_action)\n",
    "        j.action = policy(values)\n",
    "    for j in agents: # needs to loop through agents again to take the final actions that were computed in the previous loop\n",
    "        environment.take_action(j.action)\n",
    "        reward = environment.get_reward()"
   ]
  },
  {
   "cell_type": "markdown",
   "metadata": {},
   "source": [
    "# Listing 3\n",
    "## 1D Ising model: Create the grid and produce rewards"
   ]
  },
  {
   "cell_type": "code",
   "execution_count": 1,
   "metadata": {},
   "outputs": [],
   "source": [
    "import numpy as np\n",
    "import torch\n",
    "from matplotlib import pyplot as plt\n",
    "\n",
    "def init_grid(size=(10, )):\n",
    "    grid = torch.randn(*size)\n",
    "    grid[grid > 0] = 1\n",
    "    grid[grid <= 0] = 0\n",
    "    grid = grid.byte() # converts the floating-point numbers into a byte object to make it binary\n",
    "    return grid\n",
    "\n",
    "def get_reward(s, a): # this function takes neighbors in s and compares them to agent a; if they match, the reward is higher\n",
    "    r = -1\n",
    "    for i in s:\n",
    "        if i == a:\n",
    "            r += 0.9\n",
    "    r *= 2.\n",
    "    return r"
   ]
  },
  {
   "cell_type": "code",
   "execution_count": 7,
   "metadata": {},
   "outputs": [
    {
     "data": {
      "text/plain": [
       "tensor([0, 0, 0, 1, 0, 0, 1, 0, 1, 1, 0, 0, 1, 1, 1, 0, 0, 1, 0, 1],\n",
       "       dtype=torch.uint8)"
      ]
     },
     "execution_count": 7,
     "metadata": {},
     "output_type": "execute_result"
    }
   ],
   "source": [
    "size = (20, )\n",
    "grid = init_grid(size=size)\n",
    "grid"
   ]
  },
  {
   "cell_type": "code",
   "execution_count": 8,
   "metadata": {},
   "outputs": [
    {
     "data": {
      "text/plain": [
       "<matplotlib.image.AxesImage at 0x2d441b3edc0>"
      ]
     },
     "execution_count": 8,
     "metadata": {},
     "output_type": "execute_result"
    },
    {
     "data": {
      "image/png": "[encoded data removed]",
      "text/plain": [
       "<Figure size 432x288 with 1 Axes>"
      ]
     },
     "metadata": {
      "needs_background": "light"
     },
     "output_type": "display_data"
    }
   ],
   "source": [
    "plt.imshow(np.expand_dims(grid, 0))"
   ]
  },
  {
   "cell_type": "markdown",
   "metadata": {},
   "source": [
    "# Listing 4\n",
    "## The 1D Ising model: Generate neural network parameters"
   ]
  },
  {
   "cell_type": "code",
   "execution_count": 9,
   "metadata": {},
   "outputs": [],
   "source": [
    "def gen_params(N, size): # this function generates a list of parameter vectors for a neural network\n",
    "    ret = []\n",
    "    for i in range(N):\n",
    "        vec = torch.randn(size) / 10.\n",
    "        vec.requires_grad = True\n",
    "        ret.append(vec)\n",
    "    return ret"
   ]
  },
  {
   "cell_type": "markdown",
   "metadata": {},
   "source": [
    "# Listing 5\n",
    "## The 1D Ising model: Defining the Q function"
   ]
  },
  {
   "cell_type": "code",
   "execution_count": 10,
   "metadata": {},
   "outputs": [],
   "source": [
    "def qfunc(s, theta, layers=[(4, 20), (20, 2)], afn=torch.tanh):\n",
    "    l1n = layers[0]\n",
    "    l1s = np.prod(l1n) # takes the first tuple in layers and multiplies those numbers to get the subset of the theta vector to use as the first layer\n",
    "    theta_1 = theta[0 : l1s].reshape(l1n) # reshapes the theta vector subset into a matrix for use as the first layer of the neural network\n",
    "    l2n = layers[1]\n",
    "    l2s = np.prod(l2n)\n",
    "    theta_2 = theta[l1s : l2s + l1s].reshape(l2n)\n",
    "    bias = torch.ones((1, theta_1.shape[1]))\n",
    "    l1 = s @ theta_1 + bias # this is the first layer computation. The s input is a joint-action vector of dimensions (4, 1)\n",
    "    l1 = torch.nn.functional.elu(l1)\n",
    "    l2 = afn(l1 @ theta_2)\n",
    "    return l2.flatten() # we can also input an activation function to use for the last layer; the default is tanh since our reward ranges [-1, 1]"
   ]
  },
  {
   "cell_type": "markdown",
   "metadata": {},
   "source": [
    "# Listing 6\n",
    "## The 1D Ising model: Get the state of the environment"
   ]
  },
  {
   "cell_type": "code",
   "execution_count": 11,
   "metadata": {},
   "outputs": [],
   "source": [
    "def get_substate(b): # takes a single binary number and turns it into a one-hot encoded action vector like [0, 1]\n",
    "    s = torch.zeros(2)\n",
    "    if b > 0: # if the input is 0 (down), the action vector is [1, 0]; otherwise it is [0, 1]\n",
    "        s[1] = 1\n",
    "    else:\n",
    "        s[0] = 1\n",
    "    return s\n",
    "\n",
    "def joint_state(s): # s is a vector with 2 elements where s[0] = left neighbor, s[1] = right neighbor\n",
    "    s1_ = get_substate(s[0]) # gets the action vectors for each element in s\n",
    "    s2_ = get_substate(s[1])\n",
    "    ret = (s1_.reshape(2, 1) @ s2_.reshape(1, 2)).flatten() # creates the joint-action space using the outer-product, then flattens into a vector\n",
    "    return ret"
   ]
  },
  {
   "cell_type": "markdown",
   "metadata": {},
   "source": [
    "# Listing 7\n",
    "## The 1D Ising model: Initialize the grid"
   ]
  },
  {
   "cell_type": "code",
   "execution_count": 12,
   "metadata": {},
   "outputs": [
    {
     "name": "stdout",
     "output_type": "stream",
     "text": [
      "tensor([0, 0, 0, 1, 1, 0, 0, 1, 1, 1, 1, 1, 0, 0, 1, 1, 1, 1, 0, 1],\n",
      "       dtype=torch.uint8)\n"
     ]
    },
    {
     "data": {
      "text/plain": [
       "<matplotlib.image.AxesImage at 0x2d441bf0850>"
      ]
     },
     "execution_count": 12,
     "metadata": {},
     "output_type": "execute_result"
    },
    {
     "data": {
      "image/png": "[encoded data removed]",
      "text/plain": [
       "<Figure size 576x360 with 1 Axes>"
      ]
     },
     "metadata": {
      "needs_background": "light"
     },
     "output_type": "display_data"
    }
   ],
   "source": [
    "plt.figure(figsize=(8, 5))\n",
    "size = (20, ) # sets the total size of the grid to be a 20-length vector\n",
    "hid_layer = 20 # sets the size of the hidden layer. Our Q function is just a 2-layer neural network, so there's only one hidden layer\n",
    "params = gen_params(size[0], 4 * hid_layer + hid_layer * 2) # generates a list of parameter vectors that will parameterize the Q function\n",
    "grid = init_grid(size=size)\n",
    "grid_ = grid.clone() # makes a clone of the grid (for main training loop)\n",
    "print(grid)\n",
    "plt.imshow(np.expand_dims(grid, 0))"
   ]
  },
  {
   "cell_type": "markdown",
   "metadata": {},
   "source": [
    "# Listing 8\n",
    "## The 1D Ising model: The training loop"
   ]
  },
  {
   "cell_type": "code",
   "execution_count": 13,
   "metadata": {},
   "outputs": [],
   "source": [
    "epochs = 200\n",
    "lr = 0.001 # learning rate\n",
    "losses = [[] for i in range(size[0])] # since we're dealing with multiple agents, each controlled by a separate Q function, we have to keep track of multiple losses\n",
    "for i in range(epochs):\n",
    "    for j in range(size[0]): # iterates through each agent\n",
    "        l = j - 1 if j - 1 >= 0 else size[0] - 1 # gets the left neighbor; if at the beginning, loops to the end\n",
    "        r = j + 1 if j + 1 < size[0] else 0 # gets the right neighbor; if at the end, loops to the beginning\n",
    "        state_ = grid[[l, r]] # state_ is the two binary digits representing the spins of the left and right neighbors\n",
    "        state = joint_state(state_) # state is a vector of two binary digits representing actions of two agents; turn this into a one-hot joint-action vector\n",
    "        qvals = qfunc(state.float().detach(), params[j], layers=[(4, hid_layer), (hid_layer, 2)])\n",
    "        qmax = torch.argmax(qvals, dim=0).detach().item() # the policy is to take the action associated with the highest Q value\n",
    "        action = int(qmax)\n",
    "        grid_[j] = action # we take the action in our temporary copy of the grid, grid_, and only once all agents have taken actions do we copy them into the main grid\n",
    "        reward = get_reward(state_.detach(), action)\n",
    "        with torch.no_grad(): # the target value is the Q value vector with the Q value associated with the action taken replaced with the reward observed\n",
    "            target = qvals.clone()\n",
    "            target[action] = reward\n",
    "        loss = torch.sum(torch.pow(qvals - target, 2))\n",
    "        losses[j].append(loss.detach().numpy())\n",
    "        loss.backward()\n",
    "        with torch.no_grad(): # manual gradient descent\n",
    "            params[j] = params[j] - lr * params[j].grad\n",
    "        params[j].requires_grad = True\n",
    "    with torch.no_grad(): # copies the contents of the temporary grid_ into the main grid vector\n",
    "        grid.data = grid_.data"
   ]
  },
  {
   "cell_type": "code",
   "execution_count": 14,
   "metadata": {},
   "outputs": [
    {
     "name": "stdout",
     "output_type": "stream",
     "text": [
      "tensor([0, 1, 1, 1, 0, 0, 0, 0, 0, 0, 0, 0, 0, 0, 1, 1, 1, 0, 0, 0],\n",
      "       dtype=torch.uint8) tensor(6)\n"
     ]
    },
    {
     "data": {
      "text/plain": [
       "<matplotlib.image.AxesImage at 0x2d441de0310>"
      ]
     },
     "execution_count": 14,
     "metadata": {},
     "output_type": "execute_result"
    },
    {
     "data": {
      "image/png": "[encoded data removed]",
      "text/plain": [
       "<Figure size 432x288 with 2 Axes>"
      ]
     },
     "metadata": {
      "needs_background": "light"
     },
     "output_type": "display_data"
    }
   ],
   "source": [
    "fig, ax = plt.subplots(2, 1)\n",
    "for i in range(size[0]):\n",
    "    ax[0].scatter(np.arange(len(losses[i])), losses[i])\n",
    "print(grid, grid.sum())\n",
    "ax[1].imshow(np.expand_dims(grid, 0))"
   ]
  },
  {
   "cell_type": "markdown",
   "metadata": {},
   "source": [
    "# Listing 9\n",
    "## Mean field Q-learning: The policy function"
   ]
  },
  {
   "cell_type": "code",
   "execution_count": 16,
   "metadata": {},
   "outputs": [],
   "source": [
    "from collections import deque # we will use the deque data structure as an experience replay storage list, since it can be set to have a maximum size\n",
    "from random import shuffle # we will use the shuffle function to shuffle the experience replay buffer\n",
    "\n",
    "def softmax_policy(qvals, temp=0.9): # this policy function takes in a Q value vector and return an action, either 0 (down) or 1 (up)\n",
    "    soft = torch.exp(qvals/temp) / torch.sum(torch.exp(qvals/temp)) # this is the softmax function definition\n",
    "    action = torch.multinomial(soft, 1) # the softmax function converts the Q values into a probability distribution over the actions. We use the multinomial function to randomly select an action weighted by the probabilities\n",
    "    return action"
   ]
  },
  {
   "cell_type": "markdown",
   "metadata": {},
   "source": [
    "# Listing 10\n",
    "## Mean field Q-learning: Coordinate and reward functions"
   ]
  },
  {
   "cell_type": "code",
   "execution_count": 17,
   "metadata": {},
   "outputs": [],
   "source": [
    "def get_coords(grid, j): # takes a single index value from the flattened grid and converts it back to [x, y] ccoordinates\n",
    "    x = int(np.floor(j / grid.shape[0])) # finds the x coordinate\n",
    "    y = int(j - x * grid.shape[0]) # finds the y coordinate\n",
    "    return x, y\n",
    "\n",
    "def get_reward_2d(action, action_mean): # this is the reward function for the 2D grid\n",
    "    r = (action * (action_mean - action / 2)).sum() / action.sum() # the reward is based on how different the action is from the mean field action\n",
    "    return torch.tanh(5 * r) # scales the reward to be between [-1, +1] using the tanh function"
   ]
  },
  {
   "cell_type": "code",
   "execution_count": 20,
   "metadata": {},
   "outputs": [
    {
     "name": "stdout",
     "output_type": "stream",
     "text": [
      "tensor(-0.8483)\n",
      "tensor(0.8483)\n"
     ]
    }
   ],
   "source": [
    "print(get_reward_2d(torch.Tensor([1, 0]), torch.Tensor([0.25, 0.75])))\n",
    "print(get_reward_2d(torch.Tensor([0, 1]), torch.Tensor([0.25, 0.75])))"
   ]
  },
  {
   "cell_type": "markdown",
   "metadata": {},
   "source": [
    "# Listing 11\n",
    "# Mean field Q-learning: Calculate the mean action vector"
   ]
  },
  {
   "cell_type": "code",
   "execution_count": 19,
   "metadata": {},
   "outputs": [],
   "source": [
    "def mean_action(grid, j):\n",
    "    x, y = get_coords(grid, j) # converts vectorized index j into grid coordinates [x, y] where [0, 0] is top left\n",
    "    action_mean = torch.zeros(2) # this will be the action mean vector that we will add to\n",
    "    for i in [-1, 0, 1]: # two for loops allow us to find each of the 8 nearest neighbors of agent j\n",
    "        for k in [-1, 0, 1]:\n",
    "            if i == k == 0:\n",
    "                continue\n",
    "            x_, y_ = x + i, y + k\n",
    "            x_ = x_ if x_ >= 0 else grid.shape[0] - 1\n",
    "            y_ = y_ if y_ >= 0 else grid.shape[1] - 1\n",
    "            x_ = x_ if x_ < grid.shape[0] else 0\n",
    "            y_ = y_ if y_ < grid.shape[1] else 0\n",
    "            cur_n = grid[x_, y_]\n",
    "            s = get_substate(cur_n) # converts each neighbor's binary spin into an action vector\n",
    "            action_mean += s\n",
    "    action_mean /= action_mean.sum() # normalizes the action vector to be a probability distribution\n",
    "    return action_mean"
   ]
  },
  {
   "cell_type": "code",
   "execution_count": 21,
   "metadata": {},
   "outputs": [
    {
     "name": "stdout",
     "output_type": "stream",
     "text": [
      "tensor(39)\n"
     ]
    },
    {
     "data": {
      "image/png": "[encoded data removed]",
      "text/plain": [
       "<Figure size 432x288 with 1 Axes>"
      ]
     },
     "metadata": {
      "needs_background": "light"
     },
     "output_type": "display_data"
    }
   ],
   "source": [
    "size = (10, 10)\n",
    "J = np.prod(size)\n",
    "hid_layer = 10\n",
    "layers = [(2, hid_layer), (hid_layer, 2)]\n",
    "params = gen_params(1, 2 * hid_layer + hid_layer * 2)\n",
    "grid = init_grid(size=size)\n",
    "grid_ = grid.clone()\n",
    "grid__ = grid.clone()\n",
    "plt.imshow(grid)\n",
    "print(grid.sum())"
   ]
  },
  {
   "cell_type": "markdown",
   "metadata": {},
   "source": [
    "# Listing 12\n",
    "## Mean field Q-learning: The main training loop"
   ]
  },
  {
   "cell_type": "code",
   "execution_count": 22,
   "metadata": {},
   "outputs": [],
   "source": [
    "epochs = 75\n",
    "lr = 0.0001\n",
    "num_iter = 3 # controls how many times we iterate to get rid of the initial randomness from the mean field actions\n",
    "losses = [[] for i in range(J)] # makes a list of lists to store the losses for each agent\n",
    "replay_size = 50\n",
    "replay = deque(maxlen=replay_size) # the experience replay is a deque collection, which is basically a list with a maximum size\n",
    "batch_size = 10\n",
    "gamma = 0.9 # the discount factor\n",
    "\n",
    "for i in range(epochs):\n",
    "    act_means = torch.zeros((J, 2)) # stores the mean field actions for all the agents\n",
    "    q_next = torch.zeros(J) # stores the Q values for the next state after taking an action\n",
    "    for m in range(num_iter): # since mean fields are initialized randomly, we iterate a few times to dilute the initial randomness\n",
    "        for j in range(J): # iterates through all agents in the grid\n",
    "            action_mean = mean_action(grid_, j).detach()\n",
    "            act_means[j] = action_mean.clone()\n",
    "            qvals = qfunc(action_mean.detach(), params[0], layers=layers)\n",
    "            action = softmax_policy(qvals.detach(), temp=0.5)\n",
    "            grid__[get_coords(grid_, j)] = action\n",
    "            q_next[j] = torch.max(qvals).detach()\n",
    "        grid_.data = grid__.data\n",
    "    grid.data = grid_.data\n",
    "    actions = torch.stack([get_substate(a.item()) for a in grid.flatten()])\n",
    "    rewards = torch.stack([get_reward_2d(actions[j], act_means[j]) for j in range(J)])\n",
    "    exp = (actions, rewards, act_means, q_next) # collects an experience and adds to the experience replay buffer\n",
    "    replay.append(exp)\n",
    "    shuffle(replay)\n",
    "    if len(replay) > batch_size: # once the experience replay buffer has more experiences than the batch size parameter, starts training\n",
    "        ids = np.random.randint(low=0, high=len(replay), size=batch_size)\n",
    "        exps = [replay[idx] for idx in ids]\n",
    "        for j in range(J):\n",
    "            jacts = torch.stack([ex[0][j] for ex in exps]).detach()\n",
    "            jrewards = torch.stack([ex[1][j] for ex in exps]).detach()\n",
    "            jmeans = torch.stack([ex[2][j] for ex in exps]).detach()\n",
    "            vs = torch.stack([ex[3][j] for ex in exps]).detach()\n",
    "            qvals = torch.stack([qfunc(jmeans[h].detach(), params[0], layers=layers) for h in range(batch_size)])\n",
    "            target = qvals.clone().detach()\n",
    "            target[ : , torch.argmax(jacts, dim=1)] = jrewards + gamma * vs\n",
    "            loss = torch.sum(torch.pow(qvals - target.detach(), 2))\n",
    "            losses[j].append(loss.item())\n",
    "            loss.backward()\n",
    "            with torch.no_grad():\n",
    "                params[0] = params[0] - lr * params[0].grad\n",
    "            params[0].requires_grad = True"
   ]
  },
  {
   "cell_type": "code",
   "execution_count": 23,
   "metadata": {},
   "outputs": [
    {
     "data": {
      "text/plain": [
       "<matplotlib.image.AxesImage at 0x2d441c60b50>"
      ]
     },
     "execution_count": 23,
     "metadata": {},
     "output_type": "execute_result"
    },
    {
     "data": {
      "image/png": "[encoded data removed]",
      "text/plain": [
       "<Figure size 432x288 with 2 Axes>"
      ]
     },
     "metadata": {
      "needs_background": "light"
     },
     "output_type": "display_data"
    }
   ],
   "source": [
    "fig, ax = plt.subplots(2, 1)\n",
    "ax[0].plot(np.array(losses).mean(axis=0))\n",
    "ax[1].imshow(grid)"
   ]
  },
  {
   "cell_type": "markdown",
   "metadata": {},
   "source": [
    "# Listing 13\n",
    "## Creating the MAgent environment"
   ]
  },
  {
   "cell_type": "code",
   "execution_count": null,
   "metadata": {},
   "outputs": [],
   "source": [
    "import magent\n",
    "import math\n",
    "from scipy.spatial.distance import cityblock # imports the cityblock distance function from scipy to compute distances between agents on the grid\n",
    "\n",
    "map_size = 30\n",
    "env = magent.python.magent.GridWorld(\"battle\", map_size=map_size) # sets up the environment in \"battle\" mode with a 30x30 grid\n",
    "env.set_render_dir(\"MAgent/build/render\") # sets up our ability to view the game after training\n",
    "\n",
    "team1, team2 = env.get_handles()"
   ]
  },
  {
   "cell_type": "markdown",
   "metadata": {},
   "source": [
    "# Listing 14\n",
    "## Adding the agents"
   ]
  },
  {
   "cell_type": "code",
   "execution_count": null,
   "metadata": {},
   "outputs": [],
   "source": [
    "hid_layer = 25\n",
    "in_size = 359\n",
    "act_space = 21\n",
    "layers = [(in_size, hid_layer), (hid_layer, act_space)]\n",
    "params = gen_params(2, in_size * hid_layer + hid_layer * act_space) # generates two parameter vectors to parameterize two DQNs\n",
    "map_size = 30\n",
    "width = height = map_size\n",
    "n1 = n2 = 16 # sets the number of agents for each team to 16\n",
    "gap = 1 # sets the initial gap distance between each team's agents\n",
    "epochs = 100\n",
    "replay_size = 70\n",
    "batch_size = 25\n",
    "\n",
    "side1 = int(match.sqrt(n1)) * 2\n",
    "pos1 = []\n",
    "for x in range(width // 2 - gap - size1, width // 2 - gap - side1 + side1, 2): # loops to position agents on team 1 on the left side of the grid\n",
    "    for y in range((height - side1) // 2, (height - side1) // 2 + side1, 2):\n",
    "        pos1.append([x, y, 0])\n",
    "\n",
    "side2 = int(match.sqrt(n2)) * 2\n",
    "pos2 = []\n",
    "for x in range(width // 2 + gap, width // 2 + gap + side2, 2): # loops to position agents on team 2 on the right side of the grid\n",
    "    for y in range((height - side1) // 2, (height - side1) // 2 + side1, 2):\n",
    "        pos2.append([x, y, 0])\n",
    "        \n",
    "env.reset()\n",
    "env.add_agents(team1, method=\"custom\", pos=pos1) # adds the agents to the grid for team 1 using the position lists we just created\n",
    "env.add_agents(team2, method=\"custom\", pos=pos2)"
   ]
  },
  {
   "cell_type": "code",
   "execution_count": null,
   "metadata": {},
   "outputs": [],
   "source": [
    "plt.imshow(env.get_global_minimap(30, 30)[ : , : , : ].sum(axis=2))"
   ]
  },
  {
   "cell_type": "markdown",
   "metadata": {},
   "source": [
    "# Listing 15\n",
    "## Finding the neighbors"
   ]
  },
  {
   "cell_type": "code",
   "execution_count": 6,
   "metadata": {},
   "outputs": [],
   "source": [
    "def get_neighbors(j, pos_list, r=6): # given [x, y] positions of all agents in pos_list, returns indices of agents that are within the radius of agent j\n",
    "    neighbors = []\n",
    "    pos_j = pos_list[j]\n",
    "    for i, pos in enumerate(pos_list):\n",
    "        if i == j:\n",
    "            continue\n",
    "        dist = cityblock(pos, pos_j)\n",
    "        if dist < r:\n",
    "            neighbors.append(i)\n",
    "    return neighbors"
   ]
  },
  {
   "cell_type": "code",
   "execution_count": null,
   "metadata": {},
   "outputs": [],
   "source": [
    "get_neighbors(5, env.get_pos(team1))"
   ]
  },
  {
   "cell_type": "markdown",
   "metadata": {},
   "source": [
    "# Listing 16\n",
    "## Calculating the mean field action"
   ]
  },
  {
   "cell_type": "code",
   "execution_count": 7,
   "metadata": {},
   "outputs": [],
   "source": [
    "def get_onehot(a, l=21): # converts integer representation of action into one-hot vector representation\n",
    "    x = torch.zeros(l)\n",
    "    x[a] = 1\n",
    "    return x\n",
    "\n",
    "def get_scalar(v): # converts one-hot vector action into integer representation\n",
    "    return torch.argmax(x)\n",
    "\n",
    "def get_mean_field(j, pos_list, act_list, r=7, l=21): # gets the mean field action of agent j; pos_list is what is returned by env.get_pos(team1), and l is the action space dimension\n",
    "    neighbors = get_neighbors(j, pos_list, r=r) # finds all the neighbors of the agents using pos_list\n",
    "    mean_field = torch.zeros(l)\n",
    "    for k in neighbors:\n",
    "        act_ = act_list[k]\n",
    "        act = get_onehot(k_)\n",
    "        mean_field += act\n",
    "    tot = mean_field.sum()\n",
    "    mean_field = mean_field / tot if tot > 0 else mean_field # makes sure we don't divide by zero\n",
    "    return mean_field"
   ]
  },
  {
   "cell_type": "markdown",
   "metadata": {},
   "source": [
    "# Listing 17\n",
    "## Choosing actions"
   ]
  },
  {
   "cell_type": "code",
   "execution_count": 8,
   "metadata": {},
   "outputs": [],
   "source": [
    "def infer_acts(obs, param, layers, pos_list, acts, act_space=21, num_iter=5, temp=0.5):\n",
    "    N = acts.shape[0] # gets the number of agents\n",
    "    mean_fields = torch.zeros(N, act_space)\n",
    "    acts_ = acts.clone() # clones the action vector to avoid changing in place\n",
    "    qvals = torch.zeros(N, act_space)\n",
    "    \n",
    "    for i in range(num_iter): # alternates a few times to converge on action\n",
    "        for j in range(N): # loops through the agents and computes their neighborhood mean field action vectors\n",
    "            mean_fields[j] = get_mean_field(j, pos_list, acts_)\n",
    "            \n",
    "        for j in range(N): # uses the mean field actions and state to compute Q values and select actions using a softmax policy\n",
    "            state = torch.cat((obs[j].flatten(), mean_fields[j]))\n",
    "            qs = qfunc(state.detach(), param, layers=layers)\n",
    "            qvals[j, : ] = qs[ : ]\n",
    "            acts_[j] = softmax_policy(qs.detach(), temp=temp)\n",
    "    return acts_, mean_fields, qvals\n",
    "\n",
    "def init_mean_field(N, act_space=21): # randomly initializes the mean field vectors\n",
    "    mean_fields = torch.abs(torch.rand(N, act_space))\n",
    "    for i in range(mean_fields.shape[0]):\n",
    "        mean_fields[i] = mean_fields[i] / mean_fields[i].sum()\n",
    "    return mean_fields"
   ]
  },
  {
   "cell_type": "markdown",
   "metadata": {},
   "source": [
    "# Listing 18\n",
    "## The training function"
   ]
  },
  {
   "cell_type": "code",
   "execution_count": 9,
   "metadata": {},
   "outputs": [],
   "source": [
    "def train(batch_size, replay, param, layers, J=64, gamma=0.5, lr=0.001):\n",
    "    ids = np.random.randint(low=0, high=len(replay), size=batch_size) # generates a random list of indices to subset the experience replay\n",
    "    exps = [replay[idx] for idx in ids] # subsets the experience replay buffer to get a mini-batch of data\n",
    "    losses = []\n",
    "    jobs = torch.stack([ex[0] for ex in exps]).detach() # collects all states from the mini-batch into a single tensor\n",
    "    jacts = torch.stack([ex[1] for ex in exps]).detach() # collects all actions from the mini-batch into a single tensor\n",
    "    jrewards = torch.stack([ex[2] for ex in exps]).detach() # collects all rewards from the mini-batch into a single tensor\n",
    "    jmeans = torch.stack([ex[3] for ex in exps]).detach() # collects all mean field actions from the mini-batch into a single tensor\n",
    "    vs = torch.stack([ex[4] for ex in exps]).detach() # collects all state values from the mini-batch into a single tensor\n",
    "    qs = []\n",
    "    \n",
    "    for h in range(batch_size): # loops through each experience in the mini-batch\n",
    "        state = torch.cat((jobs[h].flatten, jmeans[h]))\n",
    "        qs.append(qfunc(state.detach(), param, layers=layers)) # computes Q values for each experience in the replay\n",
    "    qvals = torch.stack(qs)\n",
    "    target = qvals.clone().detach()\n",
    "    target[ : , jacts] = jrewards + gamma * torch.max(vs, dim=1)[0] # computes the target Q values\n",
    "    \n",
    "    loss = torch.sum(torch.pow(qvals - target.detach(), 2))\n",
    "    losses.append(loss.detach().item())\n",
    "    loss.backward()\n",
    "    with torch.no_grad(): # stochastic gradient descent\n",
    "        param = param - lr * param.grad\n",
    "    param.requires_grad = True\n",
    "    return np.array(losses).mean()"
   ]
  },
  {
   "cell_type": "markdown",
   "metadata": {},
   "source": [
    "# Listing 19\n",
    "## Initializing the actions"
   ]
  },
  {
   "cell_type": "code",
   "execution_count": null,
   "metadata": {},
   "outputs": [],
   "source": [
    "N1 = env.get_num(team1) # stores the number of agents on each team\n",
    "N2 = env.get_num(team2)\n",
    "step_ct = 0\n",
    "acts_1 = torch.randint(low=0, high=act_space, size=(N1, )) # initializes the actions for all the agents\n",
    "acts_2 = torch.randint(low=0, high=act_space, size=(N2, ))\n",
    "\n",
    "replay1 = deque(maxlen=replay_size) # creates a replay buffer using a deque data structure\n",
    "replay2 = deque(maxlen=replay_size)\n",
    "\n",
    "qnext1 = torch.zeros(N1) # creates tensors to store the Q(s') values, where s' is the next state\n",
    "qnext2 = torch.zeros(N2)\n",
    "\n",
    "act_means1 = init_mean_field(N1, act_space) # initializes the mean fields for each agent\n",
    "act_means2 = init_mean_field(N2, act_space)\n",
    "\n",
    "rewards1 = torch.zeros(N1) # creates tensors to store the rewards for each agent\n",
    "rewards2 = torch.zeros(N2)\n",
    "\n",
    "losses1 = []\n",
    "losses2 = []"
   ]
  },
  {
   "cell_type": "markdown",
   "metadata": {},
   "source": [
    "# Listing 20\n",
    "## Taking a team step and adding to the replay"
   ]
  },
  {
   "cell_type": "code",
   "execution_count": 11,
   "metadata": {},
   "outputs": [],
   "source": [
    "def team_step(team, param, acts, layers):\n",
    "    obs = env.get_observation(team) # gets observation tensor from team, which is a 16x13x13x7 tensor\n",
    "    ids = env.get_agent_id(team) # gets the list of indices for the agents that are still alive\n",
    "    obs_small = torch.from_numpy(obs[0][ : , : , : , [1, 4]]) # subsets the observation tensor to only get the positions of the agents\n",
    "    agent_pos = env.get_pos(team) # gets the list of coordinates for each agent on a team\n",
    "    acts, act_means, qvals = infer_acts(obs_small, param, layers, agent_pos, acts) # decides which actions to take using the DQN for each agent\n",
    "    return acts, act_means, qvals, obs_small, ids\n",
    "\n",
    "def add_to_replay(replay, obs_small, acts, rewards, act_means, qnext): # adds each individual agent's experience separetely to the replay buffer\n",
    "    for j in range(rewards.shape[0]): # loops through each agent\n",
    "        exp = (obs_small[j], acts[j], rewards[j], act_means[j], qnext[j])\n",
    "        replay.append(exp)\n",
    "    return replay"
   ]
  },
  {
   "cell_type": "markdown",
   "metadata": {},
   "source": [
    "# Listing 21\n",
    "## Training loop"
   ]
  },
  {
   "cell_type": "code",
   "execution_count": null,
   "metadata": {},
   "outputs": [],
   "source": [
    "for i in range(epochs):\n",
    "    done = False\n",
    "    while not done: # while the game is not over\n",
    "        acts_1, act_means1, qvals1, obs_small_1, ids_1 = team_step(team1, params[0], acts_1, layers) # uses the team_step method to collect environment data and choose actions for the agents using the DQN\n",
    "        env.set_action(team1, acts_1.detach().numpy().astype(np.int32))\n",
    "        acts_2, act_means2, qvals2, obs_small_2, ids_2 = team_step(team2, params[0], acts_2, layers)\n",
    "        env.set_action(team2, acts_2.detach().numpy().astype(np.int32))\n",
    "        \n",
    "        done = env.step() # takes a step in the environment, which will generate a new observations and rewards\n",
    "        \n",
    "        _, _, qnext1, _, ids_1 = team_step(team1, params[0], acts_1, layers) # reruns team_step to get the Q values for the next state in the environment\n",
    "        _, _, qnext2, _, ids_2 = team_step(team2, params[0], acts_2, layers)\n",
    "        \n",
    "        env.render() # renders the environment for viewing later\n",
    "        \n",
    "        rewards1 = torch.from_numpy(env.get_reward(team1)).float() # collects the rewards into a tensor for each agent\n",
    "        rewards1 = torch.from_numpy(env.get_reward(team2)).float()\n",
    "        \n",
    "        replay1 = add_to_replay(replay1, obs_small_1, acts_1, rewards1, act_means1, qnext1) # adds to experience replay\n",
    "        replay2 = add_to_replay(replay2, obs_small_2, acts_2, rewards2, act_means2, qnext2)\n",
    "        shuffle(replay1) # shuffles the replay buffer\n",
    "        shuffle(replay2)\n",
    "        \n",
    "        ids_1_ = list(zip(np.arange(ids_1.shape[0]), ids_1)) # builds a zipped list of IDs to keep track of which agents died and will be cleared from the grid\n",
    "        ids_2_ = list(zip(np.arange(ids_2.shape[0]), ids_2))\n",
    "        \n",
    "        env.clear_dead() # clears the dead agents off the grid\n",
    "        \n",
    "        ids_1 = env.get_agent_id(team1) # now that the dead agents are cleared, gets the new list of agent IDs\n",
    "        ids_2 = env.get_agent_id(team2)\n",
    "        \n",
    "        ids_1_ = [i for (i, j) in ids_1_ if j in ids_1] # subsets the old list of IDs based on which agents are still alive\n",
    "        ids_2_ = [i for (i, j) in ids_2_ if j in ids_2]\n",
    "        \n",
    "        acts_1 = acts_1[ids_1_] # subsets the action list based on the agents that are still alive\n",
    "        acts_2 = acts_1[ids_2_]\n",
    "        \n",
    "        step_ct += 1\n",
    "        if step_ct > 250:\n",
    "            break\n",
    "            \n",
    "        if len(replay1) > batch_size and len(replay2) > batch_size: # if the replay buffers are sufficiently full, starts training\n",
    "            loss1 = train(batch_size, replay1, params[0], layers=layers, J=N1)\n",
    "            loss2 = train(batch_size, replay1, params[1], layers=layers, J=N2)\n",
    "            losses1.append(loss1)\n",
    "            losses2.append(loss2)"
   ]
  }
 ],
 "metadata": {
  "kernelspec": {
   "display_name": "Python 3",
   "language": "python",
   "name": "python3"
  },
  "language_info": {
   "codemirror_mode": {
    "name": "ipython",
    "version": 3
   },
   "file_extension": ".py",
   "mimetype": "text/x-python",
   "name": "python",
   "nbconvert_exporter": "python",
   "pygments_lexer": "ipython3",
   "version": "3.8.3"
  }
 },
 "nbformat": 4,
 "nbformat_minor": 4
}
