{
 "cells": [
  {
   "cell_type": "markdown",
   "metadata": {},
   "source": [
    "# Listing 1\n",
    "## Evolving strings: set up random strings"
   ]
  },
  {
   "cell_type": "code",
   "execution_count": 12,
   "metadata": {},
   "outputs": [],
   "source": [
    "import random\n",
    "from difflib import SequenceMatcher\n",
    "\n",
    "alphabet = \"abcdefghijklmnopqrstuvwxyzABCDEFGHIJKLMNOPQRSTUVWXYZ,.! \" # the list of characters we sample from to produce random strings\n",
    "target = \"Hello World!\" # the string we're trying to evolve from a random population\n",
    "\n",
    "class Individual:  # sets up a simple class to store information about each member of the population\n",
    "    def __init__(self, string, fitness=0):\n",
    "        self.string = string\n",
    "        self.fitness = fitness\n",
    "        \n",
    "def similar(a, b): # computes a similarity metric between two strings, giving us a fitness score\n",
    "    return SequenceMatcher(None, a, b).ratio()\n",
    "\n",
    "def spawn_population(length=26, size=100): # produces an initial random population of strings\n",
    "    pop = []\n",
    "    for _ in range(size):\n",
    "        string = ''.join(random.choices(alphabet, k=length))\n",
    "        individual = Individual(string)\n",
    "        pop.append(individual)\n",
    "    return pop"
   ]
  },
  {
   "cell_type": "markdown",
   "metadata": {},
   "source": [
    "# Listing 2\n",
    "## Evolving strings: recombine and mutate"
   ]
  },
  {
   "cell_type": "code",
   "execution_count": 13,
   "metadata": {},
   "outputs": [],
   "source": [
    "def recombine(p1_, p2_): # recombines two parent strings into two new offspring\n",
    "    p1 = p1_.string\n",
    "    p2 = p2_.string\n",
    "    child1 = []\n",
    "    child2 = []\n",
    "    cross_pt = random.randint(0, len(p1))\n",
    "    child1.extend(p1[0:cross_pt])\n",
    "    child1.extend(p2[cross_pt:])\n",
    "    child2.extend(p2[0:cross_pt])\n",
    "    child2.extend(p1[cross_pt:])\n",
    "    c1 = Individual(''.join(child1))\n",
    "    c2 = Individual(''.join(child2))\n",
    "    return c1, c2\n",
    "\n",
    "def mutate(x, mut_rate=0.01): # mutates a string by randomly flipping characters\n",
    "    new_x_ = []\n",
    "    for char in x.string:\n",
    "        if random.random() < mut_rate:\n",
    "            new_x_.extend(random.choices(alphabet, k=1))\n",
    "        else:\n",
    "            new_x_.append(char)\n",
    "    new_x = Individual(''.join(new_x_))\n",
    "    return new_x"
   ]
  },
  {
   "cell_type": "markdown",
   "metadata": {},
   "source": [
    "# Listing 3\n",
    "## Evolving strings: evaluate individuals and create new generation"
   ]
  },
  {
   "cell_type": "code",
   "execution_count": 14,
   "metadata": {},
   "outputs": [],
   "source": [
    "def evaluate_population(pop, target): # assigns a fitness score to each individual in the population\n",
    "    avg_fit = 0\n",
    "    for i in range(len(pop)):\n",
    "        fit = similar(pop[i].string, target)\n",
    "        pop[i].fitness = fit\n",
    "        avg_fit += fit\n",
    "    avg_fit /= len(pop)\n",
    "    return pop, avg_fit\n",
    "    \n",
    "def next_generation(pop, size=100, length=26, mut_rate=0.01): # generates a new generation by recombination and mutation\n",
    "    new_pop = []\n",
    "    while len(new_pop) < size:\n",
    "        parents = random.choices(pop, k=2, weights=[x.fitness for x in pop])\n",
    "        offspring_ = recombine(parents[0], parents[1])\n",
    "        child1 = mutate(offspring_[0], mut_rate=mut_rate)\n",
    "        child2 = mutate(offspring_[1], mut_rate=mut_rate)\n",
    "        offspring = [child1, child2]\n",
    "        new_pop.extend(offspring)\n",
    "    return new_pop"
   ]
  },
  {
   "cell_type": "markdown",
   "metadata": {},
   "source": [
    "# Listing 4\n",
    "## Evolving strings: putting it all together"
   ]
  },
  {
   "cell_type": "code",
   "execution_count": 15,
   "metadata": {},
   "outputs": [],
   "source": [
    "num_generations = 150\n",
    "population_size = 900\n",
    "str_len = len(target)\n",
    "mutation_rate = 0.00001 # sets the mutation rate to 0.001%\n",
    "\n",
    "pop_fit = []\n",
    "pop = spawn_population(size=population_size, length=str_len) # creates the initial random population\n",
    "for gen in range(num_generations):\n",
    "    pop, avg_fit = evaluate_population(pop, target)\n",
    "    pop_fit.append(avg_fit) # records population average fitness over training time\n",
    "    new_pop = next_generation(pop, size=population_size, length=str_len, mut_rate=mutation_rate)\n",
    "    pop = new_pop"
   ]
  },
  {
   "cell_type": "code",
   "execution_count": 16,
   "metadata": {},
   "outputs": [
    {
     "data": {
      "text/plain": [
       "'Hlo jWVorld!'"
      ]
     },
     "execution_count": 16,
     "metadata": {},
     "output_type": "execute_result"
    }
   ],
   "source": [
    "pop.sort(key=lambda x: x.fitness, reverse=True) # sort in place, highest fitness first\n",
    "pop[0].string"
   ]
  },
  {
   "cell_type": "code",
   "execution_count": 17,
   "metadata": {},
   "outputs": [
    {
     "data": {
      "text/plain": [
       "[<matplotlib.lines.Line2D at 0x154f64eb9a0>]"
      ]
     },
     "execution_count": 17,
     "metadata": {},
     "output_type": "execute_result"
    },
    {
     "data": {
      "image/png": "[encoded data removed]",
      "text/plain": [
       "<Figure size 864x504 with 1 Axes>"
      ]
     },
     "metadata": {
      "needs_background": "light"
     },
     "output_type": "display_data"
    }
   ],
   "source": [
    "from matplotlib import pyplot as plt\n",
    "\n",
    "plt.figure(figsize=(12,7))\n",
    "plt.xlabel(\"Generations\",fontsize=22)\n",
    "plt.ylabel(\"Fitness\",fontsize=22)\n",
    "plt.plot(pop_fit)"
   ]
  },
  {
   "cell_type": "markdown",
   "metadata": {},
   "source": [
    "# Listing 5\n",
    "## Defining an agent"
   ]
  },
  {
   "cell_type": "code",
   "execution_count": 18,
   "metadata": {},
   "outputs": [],
   "source": [
    "import numpy as np\n",
    "import torch\n",
    "\n",
    "def model(x, unpacked_params):\n",
    "    l1, b1, l2, b2, l3, b3 = unpacked_params # unpacks the parameter vector into individual layer matrices\n",
    "    y = torch.nn.functional.linear(x, l1, b1) # a simple linear layer with bias\n",
    "    y = torch.relu(y) # a rectified linear unit activation function\n",
    "    y = torch.nn.functional.linear(y, l2, b2)\n",
    "    y = torch.relu(y)\n",
    "    y = torch.nn.functional.linear(y, l3, b3)\n",
    "    y = torch.log_softmax(y, dim=0) # the last layer will output log probabilities over actions\n",
    "    return y"
   ]
  },
  {
   "cell_type": "markdown",
   "metadata": {},
   "source": [
    "# Listing 6\n",
    "## Unpacking a parameter vector"
   ]
  },
  {
   "cell_type": "code",
   "execution_count": 28,
   "metadata": {},
   "outputs": [],
   "source": [
    "def unpack_params(params, layers=[(25, 4), (10, 25), (2, 10)]): # the layers parameter specifies the shape of each layer matrix\n",
    "    unpacked_params = [] # stores each individual layer tensor\n",
    "    e = 0\n",
    "    for i, l in enumerate(layers): # iterates through each layer\n",
    "        s, e = e, e + np.prod(l)\n",
    "        weights = params[s:e].view(l) # unpacks the individual layer into matrix form\n",
    "        s, e = e, e + l[0]\n",
    "        bias = params[s:e]\n",
    "        unpacked_params.extend([weights, bias]) # adds the unpacked layer into matrix form\n",
    "    return unpacked_params"
   ]
  },
  {
   "cell_type": "markdown",
   "metadata": {},
   "source": [
    "# Listing 7\n",
    "## Spawning a population"
   ]
  },
  {
   "cell_type": "code",
   "execution_count": 29,
   "metadata": {},
   "outputs": [],
   "source": [
    "def spawn_population(N=50, size=407): # N is the number of individuals in the population; size is the length of the parameter vectors\n",
    "    pop = []\n",
    "    for _ in range(N):\n",
    "        vec = torch.randn(size) / 2.0 # creates a randomly initialized parameter vector\n",
    "        fit = 0\n",
    "        p = {'params': vec, 'fitness': fit} # creates a dictionary to store the parameter vector and its associated fitness score\n",
    "        pop.append(p)\n",
    "    return pop"
   ]
  },
  {
   "cell_type": "markdown",
   "metadata": {},
   "source": [
    "# Listing 8\n",
    "## Genetic recombination"
   ]
  },
  {
   "cell_type": "code",
   "execution_count": 30,
   "metadata": {},
   "outputs": [],
   "source": [
    "def recombine(x1, x2): # x1 and x2 are agents, which are dictionaries\n",
    "    x1 = x1['params'] # extracts just the parameter vector\n",
    "    x2 = x2['params']\n",
    "    l = x1.shape[0]\n",
    "    split_pt = np.random.randint(l) # randomly produces a split or crossover point\n",
    "    child1 = torch.zeros(l)\n",
    "    child2 = torch.zeros(l)\n",
    "    child1[0:split_pt] = x1[0:split_pt] # the first child is produced by taking the first segment of parent 1 and the second segment of parent 2\n",
    "    child1[split_pt:] = x2[split_pt:]\n",
    "    child2[0:split_pt] = x2[0:split_pt]\n",
    "    child2[split_pt:] = x1[split_pt:]\n",
    "    c1 = {'params': child1, 'fitness': 0.0} # creates new child agents by packaging the new parameter vectors into dictionaries\n",
    "    c2 = {'params': child2, 'fitness': 0.0}\n",
    "    return c1, c2"
   ]
  },
  {
   "cell_type": "markdown",
   "metadata": {},
   "source": [
    "# Listing 9\n",
    "## Mutating the parameter vectors"
   ]
  },
  {
   "cell_type": "code",
   "execution_count": 31,
   "metadata": {},
   "outputs": [],
   "source": [
    "def mutate(x, rate=0.01): # rate is the mutation rate, where 0.01 is a 1% mutation rate\n",
    "    x_ = x['params']\n",
    "    num_to_change = int(rate * x_.shape[0]) # uses the mutation rate to decide how many elements in the parameter vector to mutate\n",
    "    idx = np.random.randint(low=0, high=x_.shape[0], size=(num_to_change, ))\n",
    "    x_[idx] = torch.randn(num_to_change) / 10.0 # randomly resets the selected elements in the parameter vector\n",
    "    x['params'] = x_\n",
    "    return x"
   ]
  },
  {
   "cell_type": "markdown",
   "metadata": {},
   "source": [
    "# Listing 10\n",
    "## Testing each agent in the environment"
   ]
  },
  {
   "cell_type": "code",
   "execution_count": 32,
   "metadata": {},
   "outputs": [],
   "source": [
    "import gym\n",
    "env = gym.make(\"CartPole-v0\")\n",
    "\n",
    "def test_model(agent):\n",
    "    done = False\n",
    "    state = torch.from_numpy(env.reset()).float()\n",
    "    score = 0\n",
    "    while not done: # while game is not lost\n",
    "        params = unpack_params(agent['params'])\n",
    "        probs = model(state, params) # gets the action probabilities from the model using the agent's parameter vector\n",
    "        action = torch.distributions.Categorical(probs=probs).sample() # probabilistically selects an action by sampling from a categorical distribution\n",
    "        state_, reward, done, info = env.step(action.item())\n",
    "        state = torch.from_numpy(state_).float()\n",
    "        score += 1\n",
    "    return score"
   ]
  },
  {
   "cell_type": "markdown",
   "metadata": {},
   "source": [
    "# Listing 11\n",
    "## Evaluate all the agents in the population"
   ]
  },
  {
   "cell_type": "code",
   "execution_count": 33,
   "metadata": {},
   "outputs": [],
   "source": [
    "def evaluate_population(pop):\n",
    "    tot_fit = 0 # total fitness for this population; used to later calculate the average fitness of the population\n",
    "    lp = len(pop)\n",
    "    for agent in pop: # iterates through each agent in the population\n",
    "        score = test_model(agent) # runs the agent in the environment to assess its fitness\n",
    "        agent['fitness'] = score # stores the fitness value\n",
    "        tot_fit += score\n",
    "    avg_fit = tot_fit / lp\n",
    "    return pop, avg_fit"
   ]
  },
  {
   "cell_type": "markdown",
   "metadata": {},
   "source": [
    "# Listing 12\n",
    "## Creating the next generation"
   ]
  },
  {
   "cell_type": "code",
   "execution_count": 38,
   "metadata": {},
   "outputs": [],
   "source": [
    "def next_generation(pop, mut_rate=0.001, tournament_size=0.2):\n",
    "    new_pop = []\n",
    "    lp = len(pop)\n",
    "    while len(new_pop) < lp: # while the new population is not full\n",
    "        rids = np.random.randint(low=0, high=lp, size=int(tournament_size * lp)) # selects a percentage of the full population as a subset\n",
    "        batch = np.array([[i, x['fitness']] for (i, x) in enumerate(pop) if i in rids]) # subsets the population to get a batch of agents and matches each one with their index value in the original population\n",
    "        scores = batch[batch[:, 1].argsort()] # sorts this batch in increasing order of score\n",
    "        i0, i1 = int(scores[-1][0]), int(scores[-2][0]) # the last agents in the sorted batch are the agents with the highest scores; selects the top 2 as parents\n",
    "        parent0, parent1 = pop[i0], pop[i1]\n",
    "        offspring_ = recombine(parent0, parent1) # recombines the parents to get offspring\n",
    "        child1 = mutate(offspring_[0], rate=mut_rate) # mutates the children before putting them into the next generation\n",
    "        child2 = mutate(offspring_[1], rate=mut_rate)\n",
    "        offspring = [child1, child2]\n",
    "        new_pop.extend(offspring)\n",
    "    return new_pop"
   ]
  },
  {
   "cell_type": "markdown",
   "metadata": {},
   "source": [
    "# Listing 13\n",
    "## Training the models"
   ]
  },
  {
   "cell_type": "code",
   "execution_count": 39,
   "metadata": {},
   "outputs": [],
   "source": [
    "num_generations = 25 # number of generations to evolve\n",
    "population_size = 500 # the number of individuals in each generation\n",
    "mutation_rate = 0.01\n",
    "pop_fit = []\n",
    "pop = spawn_population(N=population_size, size=407) # initializes a population\n",
    "for _ in range(num_generations):\n",
    "    pop, avg_fit = evaluate_population(pop) # evaluates the fitness of each agent in the population\n",
    "    pop_fit.append(avg_fit)\n",
    "    pop = next_generation(pop, mut_rate=mutation_rate, tournament_size=0.2) # populates the next generation"
   ]
  },
  {
   "cell_type": "code",
   "execution_count": 41,
   "metadata": {},
   "outputs": [
    {
     "data": {
      "text/plain": [
       "[<matplotlib.lines.Line2D at 0x154f88d18e0>]"
      ]
     },
     "execution_count": 41,
     "metadata": {},
     "output_type": "execute_result"
    },
    {
     "data": {
      "image/png": "[encoded data removed]",
      "text/plain": [
       "<Figure size 864x504 with 1 Axes>"
      ]
     },
     "metadata": {
      "needs_background": "light"
     },
     "output_type": "display_data"
    }
   ],
   "source": [
    "from matplotlib import pyplot as plt\n",
    "\n",
    "def running_mean(x,n=5):\n",
    "    conv = np.ones(n)\n",
    "    y = np.zeros(x.shape[0] - n)\n",
    "    for i in range(x.shape[0] - n):\n",
    "        y[i] = (conv @ x[i:i + n]) / n\n",
    "    return y\n",
    "\n",
    "plt.figure(figsize=(12, 7))\n",
    "plt.xlabel(\"Generations\", fontsize=22)\n",
    "plt.ylabel(\"Score\", fontsize=22)\n",
    "plt.plot(running_mean(np.array(pop_fit), 3))"
   ]
  },
  {
   "cell_type": "markdown",
   "metadata": {},
   "source": [
    "# Listing 14\n",
    "## Setting the random seed"
   ]
  },
  {
   "cell_type": "code",
   "execution_count": 44,
   "metadata": {},
   "outputs": [
    {
     "data": {
      "text/plain": [
       "array([0.77132064, 0.02075195, 0.63364823, 0.74880388])"
      ]
     },
     "execution_count": 44,
     "metadata": {},
     "output_type": "execute_result"
    }
   ],
   "source": [
    "import numpy as np\n",
    "np.random.seed(10)\n",
    "np.random.rand(4)"
   ]
  }
 ],
 "metadata": {
  "kernelspec": {
   "display_name": "Python 3",
   "language": "python",
   "name": "python3"
  },
  "language_info": {
   "codemirror_mode": {
    "name": "ipython",
    "version": 3
   },
   "file_extension": ".py",
   "mimetype": "text/x-python",
   "name": "python",
   "nbconvert_exporter": "python",
   "pygments_lexer": "ipython3",
   "version": "3.8.3"
  }
 },
 "nbformat": 4,
 "nbformat_minor": 4
}
