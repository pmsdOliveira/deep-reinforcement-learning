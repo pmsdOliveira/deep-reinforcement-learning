{
 "cells": [
  {
   "cell_type": "markdown",
   "metadata": {},
   "source": [
    "# Listing 1\n",
    "## Creating a Gridworld game"
   ]
  },
  {
   "cell_type": "code",
   "execution_count": 1,
   "metadata": {},
   "outputs": [
    {
     "data": {
      "text/plain": [
       "array([['+', '-', ' ', 'P'],\n",
       "       [' ', 'W', ' ', ' '],\n",
       "       [' ', ' ', ' ', ' '],\n",
       "       [' ', ' ', ' ', ' ']], dtype='<U2')"
      ]
     },
     "execution_count": 1,
     "metadata": {},
     "output_type": "execute_result"
    }
   ],
   "source": [
    "from Gridworld import Gridworld\n",
    "\n",
    "game = Gridworld(size=4, mode='static')\n",
    "game.display()"
   ]
  },
  {
   "cell_type": "code",
   "execution_count": 2,
   "metadata": {},
   "outputs": [
    {
     "data": {
      "text/plain": [
       "array([['+', '-', ' ', ' '],\n",
       "       [' ', 'W', ' ', ' '],\n",
       "       [' ', ' ', 'P', ' '],\n",
       "       [' ', ' ', ' ', ' ']], dtype='<U2')"
      ]
     },
     "execution_count": 2,
     "metadata": {},
     "output_type": "execute_result"
    }
   ],
   "source": [
    "game.makeMove('d')\n",
    "game.makeMove('d')\n",
    "game.makeMove('l')\n",
    "game.display()"
   ]
  },
  {
   "cell_type": "code",
   "execution_count": 3,
   "metadata": {},
   "outputs": [
    {
     "data": {
      "text/plain": [
       "-1"
      ]
     },
     "execution_count": 3,
     "metadata": {},
     "output_type": "execute_result"
    }
   ],
   "source": [
    "game.reward()"
   ]
  },
  {
   "cell_type": "code",
   "execution_count": 4,
   "metadata": {},
   "outputs": [
    {
     "data": {
      "text/plain": [
       "array([[[0, 0, 0, 0],\n",
       "        [0, 0, 0, 0],\n",
       "        [0, 0, 1, 0],\n",
       "        [0, 0, 0, 0]],\n",
       "\n",
       "       [[1, 0, 0, 0],\n",
       "        [0, 0, 0, 0],\n",
       "        [0, 0, 0, 0],\n",
       "        [0, 0, 0, 0]],\n",
       "\n",
       "       [[0, 1, 0, 0],\n",
       "        [0, 0, 0, 0],\n",
       "        [0, 0, 0, 0],\n",
       "        [0, 0, 0, 0]],\n",
       "\n",
       "       [[0, 0, 0, 0],\n",
       "        [0, 1, 0, 0],\n",
       "        [0, 0, 0, 0],\n",
       "        [0, 0, 0, 0]]], dtype=uint8)"
      ]
     },
     "execution_count": 4,
     "metadata": {},
     "output_type": "execute_result"
    }
   ],
   "source": [
    "game.board.render_np()"
   ]
  },
  {
   "cell_type": "code",
   "execution_count": 5,
   "metadata": {},
   "outputs": [
    {
     "data": {
      "text/plain": [
       "(4, 4, 4)"
      ]
     },
     "execution_count": 5,
     "metadata": {},
     "output_type": "execute_result"
    }
   ],
   "source": [
    "game.board.render_np().shape"
   ]
  },
  {
   "cell_type": "markdown",
   "metadata": {},
   "source": [
    "# Listing 2\n",
    "## Neural network Q function"
   ]
  },
  {
   "cell_type": "code",
   "execution_count": 6,
   "metadata": {},
   "outputs": [],
   "source": [
    "import random\n",
    "import numpy as np\n",
    "import torch\n",
    "from Gridworld import Gridworld\n",
    "from matplotlib import pylab as plt\n",
    "\n",
    "l1 = 64\n",
    "l2 = 150\n",
    "l3 = 100\n",
    "l4 = 4\n",
    "\n",
    "model = torch.nn.Sequential(\n",
    "    torch.nn.Linear(l1, l2),\n",
    "    torch.nn.ReLU(),\n",
    "    torch.nn.Linear(l2, l3),\n",
    "    torch.nn.ReLU(),\n",
    "    torch.nn.Linear(l3, l4)\n",
    ")\n",
    "loss_fn = torch.nn.MSELoss()\n",
    "learning_rate = 1e-3\n",
    "optimizer = torch.optim.Adam(model.parameters(), lr=learning_rate)\n",
    "\n",
    "gamma = 0.9\n",
    "epsilon = 1.0\n",
    "\n",
    "action_set = {\n",
    "    0: 'u',\n",
    "    1: 'd',\n",
    "    2: 'l',\n",
    "    3: 'r',\n",
    "}"
   ]
  },
  {
   "cell_type": "markdown",
   "metadata": {},
   "source": [
    "# Listing 3\n",
    "## Q-learning: Main training loop"
   ]
  },
  {
   "cell_type": "code",
   "execution_count": 7,
   "metadata": {},
   "outputs": [
    {
     "name": "stderr",
     "output_type": "stream",
     "text": [
      "C:\\Users\\Utilizador\\anaconda3\\lib\\site-packages\\torch\\nn\\modules\\loss.py:445: UserWarning: Using a target size (torch.Size([1])) that is different to the input size (torch.Size([])). This will likely lead to incorrect results due to broadcasting. Please ensure they have the same size.\n",
      "  return F.mse_loss(input, target, reduction=self.reduction)\n"
     ]
    },
    {
     "data": {
      "text/plain": [
       "Text(0, 0.5, 'Loss')"
      ]
     },
     "execution_count": 7,
     "metadata": {},
     "output_type": "execute_result"
    },
    {
     "data": {
      "image/png": "[encoded data removed]",
      "text/plain": [
       "<Figure size 720x504 with 1 Axes>"
      ]
     },
     "metadata": {
      "needs_background": "light"
     },
     "output_type": "display_data"
    }
   ],
   "source": [
    "epochs = 1000\n",
    "losses = [] # creates a list to store loss values so we can plot the trend later\n",
    "\n",
    "for _ in range(epochs): # the main training loop\n",
    "    game = Gridworld(size=4, mode='static') # for each epoch, we start a new game\n",
    "    state_ = game.board.render_np().reshape(1, 64) + np.random.rand(1, 64) / 10.0 # after we create the game, we extract the state information and add a small amount of noise (prevents \"dead neurons\" because ReLU isn't differentiable at 0 and overfitting)\n",
    "    state1 = torch.from_numpy(state_).float() # converts the numpy array into a PyTorch tensor and then into a PyTorch variable\n",
    "    status = 1 # uses the status variable to keep track of whether or not the game is still in progress\n",
    "    while(status == 1): # while this game is still in progress, plays to completion and then starts a new epoch\n",
    "        qval = model(state1) # runs the Q-network forward to get its predicted Q values for all the actions\n",
    "        qval_ = qval.data.numpy()\n",
    "        if (random.random() < epsilon): # selects an action using the epsilon-greedy method\n",
    "            action_ = np.random.randint(0, 4)\n",
    "        else:\n",
    "            action_ = np.argmax(qval_)\n",
    "\n",
    "        action = action_set[action_] # translated the numerical action into one of the action characters that our Gridworld game expects\n",
    "        game.makeMove(action) # after selecting an action using the epsilon-greedy method, takes the action\n",
    "        state2_ = game.board.render_np().reshape(1, 64) + np.random.rand(1, 64) / 10.0\n",
    "        state2 = torch.from_numpy(state2_).float() # after making a move, gets the new state of the game\n",
    "        reward = game.reward()\n",
    "        with torch.no_grad(): # don't create a computation graph for newQ, saving memory, because newQ is just a target for training, no need to backpropagate through the computation graph\n",
    "            newQ = model(state2.reshape(1, 64))\n",
    "        maxQ = torch.max(newQ) # finds the maximum Q value predicted from the new state\n",
    "        if reward == -1: # calculates the target Q value\n",
    "            Y = reward + (gamma * maxQ)\n",
    "        else:\n",
    "            Y = reward\n",
    "        Y = torch.Tensor([Y]).detach() # detach the Y node from the graph so that it is just used as data and not as a computational graph node, so it won't be affected by backpropagation \n",
    "        X = qval.squeeze()[action_] # creates a copy of the qval array, updates the one element corresponding to the action taken\n",
    "        loss = loss_fn(X, Y)\n",
    "        optimizer.zero_grad()\n",
    "        loss.backward()\n",
    "        losses.append(loss.item())\n",
    "        optimizer.step()\n",
    "        state1 = state2\n",
    "        if reward != -1: # if reward is -1, the game hasn't been won or lost and is still in progress\n",
    "            status = 0\n",
    "    if epsilon > 0.1: # decrements the epsilon value each epoch\n",
    "        epsilon -= (1 / epochs)\n",
    "\n",
    "plt.figure(figsize=(10, 7))\n",
    "plt.plot(losses)\n",
    "plt.xlabel(\"Epochs\", fontsize=22)\n",
    "plt.ylabel(\"Loss\", fontsize=22)"
   ]
  },
  {
   "cell_type": "markdown",
   "metadata": {},
   "source": [
    "# Listing 4\n",
    "## Testing the Q-network"
   ]
  },
  {
   "cell_type": "code",
   "execution_count": null,
   "metadata": {},
   "outputs": [],
   "source": [
    "def test_model(model, size=4, mode='static', display=True):\n",
    "    i = 0\n",
    "    test_game = Gridworld(size=size, mode=mode)\n",
    "    state_ = test_game.board.render_np().reshape(1, 64) + np.random.rand(1, 64) / 10.0\n",
    "    state = torch.from_numpy(state_).float()\n",
    "    if display:\n",
    "        print(\"Initial State:\")\n",
    "        print(test_game.display())\n",
    "    status = 1\n",
    "    while (status == 1): # while the game is still in progress\n",
    "        qval = model(state)\n",
    "        qval_ = qval.data.numpy()\n",
    "        action_ = np.argmax(qval_) # takes the action with the highest Q value\n",
    "        action = action_set[action_]\n",
    "        if display:\n",
    "            print(\"Move #: %s; Taking action: %s\" % (i, action))\n",
    "        test_game.makeMove(action)\n",
    "        state_ = test_game.board.render_np().reshape(1, 64) + np.random.rand(1, 64) / 10.0\n",
    "        state = torch.from_numpy(state_).float()\n",
    "        if display:\n",
    "            print(test_game.display())\n",
    "        reward = test_game.reward()\n",
    "        if reward != -1:\n",
    "            if reward > 0:\n",
    "                status = 2\n",
    "                if display:\n",
    "                    print(\"Game won! Reward: %s\" % (reward))\n",
    "            else:\n",
    "                status = 0\n",
    "                if display:\n",
    "                    print(\"Game LOST. Reward: %s\" % (reward))\n",
    "        i += 1\n",
    "        if i > 15:\n",
    "            if display:\n",
    "                print(\"Game lost; too many moves.\")\n",
    "            break\n",
    "\n",
    "    win = True if status == 2 else False\n",
    "    return win"
   ]
  },
  {
   "cell_type": "code",
   "execution_count": 9,
   "metadata": {},
   "outputs": [
    {
     "name": "stdout",
     "output_type": "stream",
     "text": [
      "Initial State:\n",
      "[['+' '-' ' ' 'P']\n",
      " [' ' 'W' ' ' ' ']\n",
      " [' ' ' ' ' ' ' ']\n",
      " [' ' ' ' ' ' ' ']]\n",
      "Move #: 0; Taking action: d\n",
      "[['+' '-' ' ' ' ']\n",
      " [' ' 'W' ' ' 'P']\n",
      " [' ' ' ' ' ' ' ']\n",
      " [' ' ' ' ' ' ' ']]\n",
      "Move #: 1; Taking action: d\n",
      "[['+' '-' ' ' ' ']\n",
      " [' ' 'W' ' ' ' ']\n",
      " [' ' ' ' ' ' 'P']\n",
      " [' ' ' ' ' ' ' ']]\n",
      "Move #: 2; Taking action: l\n",
      "[['+' '-' ' ' ' ']\n",
      " [' ' 'W' ' ' ' ']\n",
      " [' ' ' ' 'P' ' ']\n",
      " [' ' ' ' ' ' ' ']]\n",
      "Move #: 3; Taking action: l\n",
      "[['+' '-' ' ' ' ']\n",
      " [' ' 'W' ' ' ' ']\n",
      " [' ' 'P' ' ' ' ']\n",
      " [' ' ' ' ' ' ' ']]\n",
      "Move #: 4; Taking action: l\n",
      "[['+' '-' ' ' ' ']\n",
      " [' ' 'W' ' ' ' ']\n",
      " ['P' ' ' ' ' ' ']\n",
      " [' ' ' ' ' ' ' ']]\n",
      "Move #: 5; Taking action: u\n",
      "[['+' '-' ' ' ' ']\n",
      " ['P' 'W' ' ' ' ']\n",
      " [' ' ' ' ' ' ' ']\n",
      " [' ' ' ' ' ' ' ']]\n",
      "Move #: 6; Taking action: u\n",
      "[['+' '-' ' ' ' ']\n",
      " [' ' 'W' ' ' ' ']\n",
      " [' ' ' ' ' ' ' ']\n",
      " [' ' ' ' ' ' ' ']]\n",
      "Game won! Reward: 10\n"
     ]
    },
    {
     "data": {
      "text/plain": [
       "True"
      ]
     },
     "execution_count": 9,
     "metadata": {},
     "output_type": "execute_result"
    }
   ],
   "source": [
    "test_model(model, 4, 'static')"
   ]
  },
  {
   "cell_type": "code",
   "execution_count": 10,
   "metadata": {},
   "outputs": [
    {
     "name": "stdout",
     "output_type": "stream",
     "text": [
      "Initial State:\n",
      "[['P' ' ' ' ' ' ']\n",
      " ['+' 'W' ' ' ' ']\n",
      " [' ' ' ' '-' ' ']\n",
      " [' ' ' ' ' ' ' ']]\n",
      "Move #: 0; Taking action: u\n",
      "[['P' ' ' ' ' ' ']\n",
      " ['+' 'W' ' ' ' ']\n",
      " [' ' ' ' '-' ' ']\n",
      " [' ' ' ' ' ' ' ']]\n",
      "Move #: 1; Taking action: u\n",
      "[['P' ' ' ' ' ' ']\n",
      " ['+' 'W' ' ' ' ']\n",
      " [' ' ' ' '-' ' ']\n",
      " [' ' ' ' ' ' ' ']]\n",
      "Move #: 2; Taking action: u\n",
      "[['P' ' ' ' ' ' ']\n",
      " ['+' 'W' ' ' ' ']\n",
      " [' ' ' ' '-' ' ']\n",
      " [' ' ' ' ' ' ' ']]\n",
      "Move #: 3; Taking action: u\n",
      "[['P' ' ' ' ' ' ']\n",
      " ['+' 'W' ' ' ' ']\n",
      " [' ' ' ' '-' ' ']\n",
      " [' ' ' ' ' ' ' ']]\n",
      "Move #: 4; Taking action: u\n",
      "[['P' ' ' ' ' ' ']\n",
      " ['+' 'W' ' ' ' ']\n",
      " [' ' ' ' '-' ' ']\n",
      " [' ' ' ' ' ' ' ']]\n",
      "Move #: 5; Taking action: u\n",
      "[['P' ' ' ' ' ' ']\n",
      " ['+' 'W' ' ' ' ']\n",
      " [' ' ' ' '-' ' ']\n",
      " [' ' ' ' ' ' ' ']]\n",
      "Move #: 6; Taking action: u\n",
      "[['P' ' ' ' ' ' ']\n",
      " ['+' 'W' ' ' ' ']\n",
      " [' ' ' ' '-' ' ']\n",
      " [' ' ' ' ' ' ' ']]\n",
      "Move #: 7; Taking action: u\n",
      "[['P' ' ' ' ' ' ']\n",
      " ['+' 'W' ' ' ' ']\n",
      " [' ' ' ' '-' ' ']\n",
      " [' ' ' ' ' ' ' ']]\n",
      "Move #: 8; Taking action: u\n",
      "[['P' ' ' ' ' ' ']\n",
      " ['+' 'W' ' ' ' ']\n",
      " [' ' ' ' '-' ' ']\n",
      " [' ' ' ' ' ' ' ']]\n",
      "Move #: 9; Taking action: u\n",
      "[['P' ' ' ' ' ' ']\n",
      " ['+' 'W' ' ' ' ']\n",
      " [' ' ' ' '-' ' ']\n",
      " [' ' ' ' ' ' ' ']]\n",
      "Move #: 10; Taking action: u\n",
      "[['P' ' ' ' ' ' ']\n",
      " ['+' 'W' ' ' ' ']\n",
      " [' ' ' ' '-' ' ']\n",
      " [' ' ' ' ' ' ' ']]\n",
      "Move #: 11; Taking action: u\n",
      "[['P' ' ' ' ' ' ']\n",
      " ['+' 'W' ' ' ' ']\n",
      " [' ' ' ' '-' ' ']\n",
      " [' ' ' ' ' ' ' ']]\n",
      "Move #: 12; Taking action: u\n",
      "[['P' ' ' ' ' ' ']\n",
      " ['+' 'W' ' ' ' ']\n",
      " [' ' ' ' '-' ' ']\n",
      " [' ' ' ' ' ' ' ']]\n",
      "Move #: 13; Taking action: u\n",
      "[['P' ' ' ' ' ' ']\n",
      " ['+' 'W' ' ' ' ']\n",
      " [' ' ' ' '-' ' ']\n",
      " [' ' ' ' ' ' ' ']]\n",
      "Move #: 14; Taking action: u\n",
      "[['P' ' ' ' ' ' ']\n",
      " ['+' 'W' ' ' ' ']\n",
      " [' ' ' ' '-' ' ']\n",
      " [' ' ' ' ' ' ' ']]\n",
      "Move #: 15; Taking action: u\n",
      "[['P' ' ' ' ' ' ']\n",
      " ['+' 'W' ' ' ' ']\n",
      " [' ' ' ' '-' ' ']\n",
      " [' ' ' ' ' ' ' ']]\n",
      "Game lost; too many moves.\n"
     ]
    },
    {
     "data": {
      "text/plain": [
       "False"
      ]
     },
     "execution_count": 10,
     "metadata": {},
     "output_type": "execute_result"
    }
   ],
   "source": [
    "test_model(model, 4, 'random')"
   ]
  },
  {
   "cell_type": "code",
   "execution_count": 11,
   "metadata": {},
   "outputs": [],
   "source": [
    "l1 = 64\n",
    "l2 = 150\n",
    "l3 = 100\n",
    "l4 = 4\n",
    "\n",
    "model = torch.nn.Sequential(\n",
    "    torch.nn.Linear(l1, l2),\n",
    "    torch.nn.ReLU(),\n",
    "    torch.nn.Linear(l2, l3),\n",
    "    torch.nn.ReLU(),\n",
    "    torch.nn.Linear(l3, l4)\n",
    ")\n",
    "loss_fn = torch.nn.MSELoss()\n",
    "learning_rate = 1e-3\n",
    "optimizer = torch.optim.Adam(model.parameters(), lr=learning_rate)\n",
    "\n",
    "gamma = 0.9\n",
    "epsilon = 1.0"
   ]
  },
  {
   "cell_type": "code",
   "execution_count": 12,
   "metadata": {},
   "outputs": [
    {
     "data": {
      "text/plain": [
       "Text(0, 0.5, 'Loss')"
      ]
     },
     "execution_count": 12,
     "metadata": {},
     "output_type": "execute_result"
    },
    {
     "data": {
      "image/png": "[encoded data removed]",
      "text/plain": [
       "<Figure size 720x504 with 1 Axes>"
      ]
     },
     "metadata": {
      "needs_background": "light"
     },
     "output_type": "display_data"
    }
   ],
   "source": [
    "epochs = 1000\n",
    "losses = [] # creates a list to store loss values so we can plot the trend later\n",
    "\n",
    "for _ in range(epochs): # the main training loop\n",
    "    game = Gridworld(size=4, mode='random') # for each epoch, we start a new game\n",
    "    state_ = game.board.render_np().reshape(1, 64) + np.random.rand(1, 64) / 10.0 # after we create the game, we extract the state information and add a small amount of noise (prevents \"dead neurons\" because ReLU isn't differentiable at 0 and overfitting)\n",
    "    state1 = torch.from_numpy(state_).float() # converts the numpy array into a PyTorch tensor and then into a PyTorch variable\n",
    "    status = 1 # uses the status variable to keep track of whether or not the game is still in progress\n",
    "    while(status == 1): # while this game is still in progress, plays to completion and then starts a new epoch\n",
    "        qval = model(state1) # runs the Q-network forward to get its predicted Q values for all the actions\n",
    "        qval_ = qval.data.numpy()\n",
    "        if (random.random() < epsilon): # selects an action using the epsilon-greedy method\n",
    "            action_ = np.random.randint(0, 4)\n",
    "        else:\n",
    "            action_ = np.argmax(qval_)\n",
    "\n",
    "        action = action_set[action_] # translated the numerical action into one of the action characters that our Gridworld game expects\n",
    "        game.makeMove(action) # after selecting an action using the epsilon-greedy method, takes the action\n",
    "        state2_ = game.board.render_np().reshape(1, 64) + np.random.rand(1, 64) / 10.0\n",
    "        state2 = torch.from_numpy(state2_).float() # after making a move, gets the new state of the game\n",
    "        reward = game.reward()\n",
    "        with torch.no_grad(): # don't create a computation graph for newQ, saving memory, because newQ is just a target for training, no need to backpropagate through the computation graph\n",
    "            newQ = model(state2.reshape(1, 64))\n",
    "        maxQ = torch.max(newQ) # finds the maximum Q value predicted from the new state\n",
    "        if reward == -1: # calculates the target Q value\n",
    "            Y = reward + (gamma * maxQ)\n",
    "        else:\n",
    "            Y = reward\n",
    "        Y = torch.Tensor([Y]).detach() # detach the Y node from the graph so that it is just used as data and not as a computational graph node, so it won't be affected by backpropagation \n",
    "        X = qval.squeeze()[action_] # creates a copy of the qval array, updates the one element corresponding to the action taken\n",
    "        loss = loss_fn(X, Y)\n",
    "        optimizer.zero_grad()\n",
    "        loss.backward()\n",
    "        losses.append(loss.item())\n",
    "        optimizer.step()\n",
    "        state1 = state2\n",
    "        if reward != -1: # if reward is -1, the game hasn't been won or lost and is still in progress\n",
    "            status = 0\n",
    "    if epsilon > 0.1: # decrements the epsilon value each epoch\n",
    "        epsilon -= (1 / epochs)\n",
    "\n",
    "plt.figure(figsize=(10, 7))\n",
    "plt.plot(losses)\n",
    "plt.xlabel(\"Epochs\", fontsize=22)\n",
    "plt.ylabel(\"Loss\", fontsize=22)"
   ]
  },
  {
   "cell_type": "code",
   "execution_count": 13,
   "metadata": {},
   "outputs": [
    {
     "name": "stdout",
     "output_type": "stream",
     "text": [
      "Initial State:\n",
      "[[' ' ' ' ' ' ' ']\n",
      " [' ' 'P' ' ' ' ']\n",
      " ['W' ' ' ' ' ' ']\n",
      " [' ' '+' '-' ' ']]\n",
      "Move #: 0; Taking action: r\n",
      "[[' ' ' ' ' ' ' ']\n",
      " [' ' ' ' 'P' ' ']\n",
      " ['W' ' ' ' ' ' ']\n",
      " [' ' '+' '-' ' ']]\n",
      "Move #: 1; Taking action: r\n",
      "[[' ' ' ' ' ' ' ']\n",
      " [' ' ' ' ' ' 'P']\n",
      " ['W' ' ' ' ' ' ']\n",
      " [' ' '+' '-' ' ']]\n",
      "Move #: 2; Taking action: l\n",
      "[[' ' ' ' ' ' ' ']\n",
      " [' ' ' ' 'P' ' ']\n",
      " ['W' ' ' ' ' ' ']\n",
      " [' ' '+' '-' ' ']]\n",
      "Move #: 3; Taking action: l\n",
      "[[' ' ' ' ' ' ' ']\n",
      " [' ' 'P' ' ' ' ']\n",
      " ['W' ' ' ' ' ' ']\n",
      " [' ' '+' '-' ' ']]\n",
      "Move #: 4; Taking action: r\n",
      "[[' ' ' ' ' ' ' ']\n",
      " [' ' ' ' 'P' ' ']\n",
      " ['W' ' ' ' ' ' ']\n",
      " [' ' '+' '-' ' ']]\n",
      "Move #: 5; Taking action: r\n",
      "[[' ' ' ' ' ' ' ']\n",
      " [' ' ' ' ' ' 'P']\n",
      " ['W' ' ' ' ' ' ']\n",
      " [' ' '+' '-' ' ']]\n",
      "Move #: 6; Taking action: l\n",
      "[[' ' ' ' ' ' ' ']\n",
      " [' ' ' ' 'P' ' ']\n",
      " ['W' ' ' ' ' ' ']\n",
      " [' ' '+' '-' ' ']]\n",
      "Move #: 7; Taking action: l\n",
      "[[' ' ' ' ' ' ' ']\n",
      " [' ' 'P' ' ' ' ']\n",
      " ['W' ' ' ' ' ' ']\n",
      " [' ' '+' '-' ' ']]\n",
      "Move #: 8; Taking action: r\n",
      "[[' ' ' ' ' ' ' ']\n",
      " [' ' ' ' 'P' ' ']\n",
      " ['W' ' ' ' ' ' ']\n",
      " [' ' '+' '-' ' ']]\n",
      "Move #: 9; Taking action: r\n",
      "[[' ' ' ' ' ' ' ']\n",
      " [' ' ' ' ' ' 'P']\n",
      " ['W' ' ' ' ' ' ']\n",
      " [' ' '+' '-' ' ']]\n",
      "Move #: 10; Taking action: l\n",
      "[[' ' ' ' ' ' ' ']\n",
      " [' ' ' ' 'P' ' ']\n",
      " ['W' ' ' ' ' ' ']\n",
      " [' ' '+' '-' ' ']]\n",
      "Move #: 11; Taking action: r\n",
      "[[' ' ' ' ' ' ' ']\n",
      " [' ' ' ' ' ' 'P']\n",
      " ['W' ' ' ' ' ' ']\n",
      " [' ' '+' '-' ' ']]\n",
      "Move #: 12; Taking action: l\n",
      "[[' ' ' ' ' ' ' ']\n",
      " [' ' ' ' 'P' ' ']\n",
      " ['W' ' ' ' ' ' ']\n",
      " [' ' '+' '-' ' ']]\n",
      "Move #: 13; Taking action: l\n",
      "[[' ' ' ' ' ' ' ']\n",
      " [' ' 'P' ' ' ' ']\n",
      " ['W' ' ' ' ' ' ']\n",
      " [' ' '+' '-' ' ']]\n",
      "Move #: 14; Taking action: r\n",
      "[[' ' ' ' ' ' ' ']\n",
      " [' ' ' ' 'P' ' ']\n",
      " ['W' ' ' ' ' ' ']\n",
      " [' ' '+' '-' ' ']]\n",
      "Move #: 15; Taking action: r\n",
      "[[' ' ' ' ' ' ' ']\n",
      " [' ' ' ' ' ' 'P']\n",
      " ['W' ' ' ' ' ' ']\n",
      " [' ' '+' '-' ' ']]\n",
      "Game lost; too many moves.\n"
     ]
    },
    {
     "data": {
      "text/plain": [
       "False"
      ]
     },
     "execution_count": 13,
     "metadata": {},
     "output_type": "execute_result"
    }
   ],
   "source": [
    "test_model(model, 4, 'random')"
   ]
  },
  {
   "cell_type": "markdown",
   "metadata": {},
   "source": [
    "# Listing 5\n",
    "## DQN with experience replay"
   ]
  },
  {
   "cell_type": "code",
   "execution_count": 14,
   "metadata": {},
   "outputs": [],
   "source": [
    "l1 = 64\n",
    "l2 = 150\n",
    "l3 = 100\n",
    "l4 = 4\n",
    "\n",
    "model = torch.nn.Sequential(\n",
    "    torch.nn.Linear(l1, l2),\n",
    "    torch.nn.ReLU(),\n",
    "    torch.nn.Linear(l2, l3),\n",
    "    torch.nn.ReLU(),\n",
    "    torch.nn.Linear(l3,l4)\n",
    ")\n",
    "loss_fn = torch.nn.MSELoss()\n",
    "learning_rate = 1e-3\n",
    "optimizer = torch.optim.Adam(model.parameters(), lr=learning_rate)\n",
    "\n",
    "gamma = 0.9\n",
    "epsilon = 0.3"
   ]
  },
  {
   "cell_type": "code",
   "execution_count": 15,
   "metadata": {},
   "outputs": [],
   "source": [
    "from collections import deque\n",
    "\n",
    "epochs = 5000\n",
    "losses = []\n",
    "mem_size = 1000 # sets the total size of the experience replay memory\n",
    "batch_size = 200 # sets the mini-batch size\n",
    "replay = deque(maxlen=mem_size) # creates the memory replay as a deque list\n",
    "max_moves = 50 # sets the maximum number of moves before game is over\n",
    "\n",
    "for _ in range(epochs):\n",
    "    game = Gridworld(size=4, mode='random')\n",
    "    state1_ = game.board.render_np().reshape(1, 64) + np.random.rand(1, 64) / 100.0\n",
    "    state1 = torch.from_numpy(state1_).float()\n",
    "    status = 1\n",
    "    mov = 0\n",
    "    while (status == 1):\n",
    "        mov += 1\n",
    "        qval = model(state1) # computes Q values from the input state in order to select an action\n",
    "        qval_ = qval.data.numpy()\n",
    "        if (random.random() < epsilon): # selects an action using the epsilon-greedy strategy\n",
    "            action_ = np.random.randint(0, 4)\n",
    "        else:\n",
    "            action_ = np.argmax(qval_)\n",
    "            \n",
    "        action = action_set[action_]\n",
    "        game.makeMove(action)\n",
    "        state2_ = game.board.render_np().reshape(1, 64) + np.random.rand(1, 64) / 100.0\n",
    "        state2 = torch.from_numpy(state2_).float()\n",
    "        reward = game.reward()\n",
    "        done = True if reward > 0 else False\n",
    "        exp = (state1, action_, reward, state2, done) # creates an experience of state, reward, action and the next state as a tuple\n",
    "        replay.append(exp) # adds the experience to the replay list\n",
    "        state1 = state2\n",
    "        \n",
    "        if len(replay) > batch_size: # if the replay list is at least as long as the mini-batch size, begins the mini-batch training\n",
    "            minibatch = random.sample(replay, batch_size) # randomly samples a subset of the replay list\n",
    "            state1_batch = torch.cat([s1 for (s1, a, r, s2, d) in minibatch]) # separates out the components of each experience into separate mini-batch tensors\n",
    "            action_batch = torch.Tensor([a for (s1, a, r, s2, d) in minibatch])\n",
    "            reward_batch = torch.Tensor([r for (s1, a, r, s2, d) in minibatch])\n",
    "            state2_batch = torch.cat([s2 for (s1, a, r, s2, d) in minibatch])\n",
    "            done_batch = torch.Tensor([d for (s1, a, r, s2, d) in minibatch])\n",
    "            \n",
    "            Q1 = model(state1_batch) # recomputes Q values for the mini-batch of states to get gradients\n",
    "            with torch.no_grad():\n",
    "                Q2 = model(state2_batch) # computes Q values for the mini-batch of next states, but doesn't compute gradients\n",
    "            \n",
    "            Y = reward_batch + gamma * ((1 - done_batch) * torch.max(Q2, dim=1)[0]) # computes the target Q values we want the DQN to learn\n",
    "            X = Q1.gather(dim=1, index=action_batch.long().unsqueeze(dim=1)).squeeze()\n",
    "            loss = loss_fn(X, Y.detach())\n",
    "            optimizer.zero_grad()\n",
    "            loss.backward()\n",
    "            losses.append(loss.item())\n",
    "            optimizer.step()\n",
    "            \n",
    "        if reward != -1 or mov > max_moves: # if the game is over, resets status and move number\n",
    "            status = 0\n",
    "            mov = 0\n",
    "\n",
    "losses = np.array(losses)"
   ]
  },
  {
   "cell_type": "code",
   "execution_count": 16,
   "metadata": {},
   "outputs": [],
   "source": [
    "def running_mean(x, N=50):\n",
    "    c = x.shape[0] - N\n",
    "    y = np.zeros(c)\n",
    "    conv = np.ones(N)\n",
    "    for i in range(c):\n",
    "        y[i] = (x[i:i + N] @ conv) / N\n",
    "    return y"
   ]
  },
  {
   "cell_type": "code",
   "execution_count": 17,
   "metadata": {},
   "outputs": [
    {
     "data": {
      "text/plain": [
       "Text(0, 0.5, 'Loss')"
      ]
     },
     "execution_count": 17,
     "metadata": {},
     "output_type": "execute_result"
    },
    {
     "data": {
      "image/png": "[encoded data removed]",
      "text/plain": [
       "<Figure size 720x504 with 1 Axes>"
      ]
     },
     "metadata": {
      "needs_background": "light"
     },
     "output_type": "display_data"
    }
   ],
   "source": [
    "plt.figure(figsize=(10,7))\n",
    "plt.plot(running_mean(losses, N=50))\n",
    "plt.xlabel(\"Epochs\", fontsize=22)\n",
    "plt.ylabel(\"Loss\", fontsize=22)"
   ]
  },
  {
   "cell_type": "markdown",
   "metadata": {},
   "source": [
    "# Listing 6\n",
    "## Testing the performance with experience replay"
   ]
  },
  {
   "cell_type": "code",
   "execution_count": 18,
   "metadata": {},
   "outputs": [
    {
     "name": "stdout",
     "output_type": "stream",
     "text": [
      "Games played: 1000, # of wins: 905\n",
      "Win percentage: 90.5%\n"
     ]
    }
   ],
   "source": [
    "max_games = 1000\n",
    "wins = 0\n",
    "\n",
    "for _ in range(max_games):\n",
    "    win = test_model(model, size=4, mode='random', display=False)\n",
    "    if win:\n",
    "        wins += 1\n",
    "win_perc = float(wins) / float(max_games)\n",
    "print(\"Games played: {0}, # of wins: {1}\".format(max_games, wins))\n",
    "print(\"Win percentage: {}%\".format(100 * win_perc))"
   ]
  },
  {
   "cell_type": "code",
   "execution_count": 27,
   "metadata": {},
   "outputs": [
    {
     "name": "stdout",
     "output_type": "stream",
     "text": [
      "Initial State:\n",
      "[[' ' ' ' '+' ' ']\n",
      " [' ' ' ' ' ' '-']\n",
      " [' ' ' ' ' ' ' ']\n",
      " [' ' 'W' 'P' ' ']]\n",
      "Move #: 0; Taking action: u\n",
      "[[' ' ' ' '+' ' ']\n",
      " [' ' ' ' ' ' '-']\n",
      " [' ' ' ' 'P' ' ']\n",
      " [' ' 'W' ' ' ' ']]\n",
      "Move #: 1; Taking action: u\n",
      "[[' ' ' ' '+' ' ']\n",
      " [' ' ' ' 'P' '-']\n",
      " [' ' ' ' ' ' ' ']\n",
      " [' ' 'W' ' ' ' ']]\n",
      "Move #: 2; Taking action: u\n",
      "[[' ' ' ' '+' ' ']\n",
      " [' ' ' ' ' ' '-']\n",
      " [' ' ' ' ' ' ' ']\n",
      " [' ' 'W' ' ' ' ']]\n",
      "Game won! Reward: 10\n"
     ]
    },
    {
     "data": {
      "text/plain": [
       "True"
      ]
     },
     "execution_count": 27,
     "metadata": {},
     "output_type": "execute_result"
    }
   ],
   "source": [
    "test_model(model, 4, mode='random')"
   ]
  },
  {
   "cell_type": "markdown",
   "metadata": {},
   "source": [
    "# Listing 7\n",
    "## Target network"
   ]
  },
  {
   "cell_type": "code",
   "execution_count": 34,
   "metadata": {},
   "outputs": [],
   "source": [
    "import copy\n",
    "\n",
    "l1 = 64\n",
    "l2 = 150\n",
    "l3 = 100\n",
    "l4 = 4\n",
    "\n",
    "model = torch.nn.Sequential(\n",
    "    torch.nn.Linear(l1, l2),\n",
    "    torch.nn.ReLU(),\n",
    "    torch.nn.Linear(l2, l3),\n",
    "    torch.nn.ReLU(),\n",
    "    torch.nn.Linear(l3, l4)\n",
    ")\n",
    "\n",
    "model2 = copy.deepcopy(model) # creates a second model by making an identical copy of the original Q-network model\n",
    "model2.load_state_dict(model.state_dict()) # copies the parameters of the original model\n",
    "\n",
    "sync_freq = 500 # sets que update frequency for synchronizing the target model parameters to the main DQN\n",
    "\n",
    "loss_fn = torch.nn.MSELoss()\n",
    "learning_rate = 1e-3\n",
    "optimizer = torch.optim.Adam(model.parameters(), lr=learning_rate)\n",
    "\n",
    "gamma = 0.9\n",
    "epsilon = 0.3"
   ]
  },
  {
   "cell_type": "markdown",
   "metadata": {},
   "source": [
    "# Listing 8\n",
    "## DQN with experience replay and target network"
   ]
  },
  {
   "cell_type": "code",
   "execution_count": 35,
   "metadata": {},
   "outputs": [],
   "source": [
    "epochs = 5000\n",
    "losses = []\n",
    "mem_size = 1000\n",
    "batch_size = 200\n",
    "replay = deque(maxlen=mem_size)\n",
    "max_moves = 50\n",
    "j = 0\n",
    "\n",
    "for _ in range(epochs):\n",
    "    game = Gridworld(size=4, mode='random')\n",
    "    state1_ = game.board.render_np().reshape(1, 64) + np.random.rand(1, 64) / 100.0\n",
    "    state1 = torch.from_numpy(state1_).float()\n",
    "    status = 1\n",
    "    mov = 0\n",
    "    while status == 1:\n",
    "        j += 1\n",
    "        mov += 1\n",
    "        qval = model(state1)\n",
    "        qval_ = qval.data.numpy()\n",
    "        if (random.random() < epsilon):\n",
    "            action_ = np.random.randint(0, 4)\n",
    "        else:\n",
    "            action_ = np.argmax(qval_)\n",
    "            \n",
    "        action = action_set[action_]\n",
    "        game.makeMove(action)\n",
    "        state2_ = game.board.render_np().reshape(1, 64) + np.random.rand(1, 64) / 100.0\n",
    "        state2 = torch.from_numpy(state2_).float()\n",
    "        reward = game.reward()\n",
    "        done = True if reward > 0 else False\n",
    "        exp = (state1, action_, reward, state2, done)\n",
    "        replay.append(exp)\n",
    "        state1 = state2\n",
    "        \n",
    "        if len(replay) > batch_size:\n",
    "            minibatch = random.sample(replay, batch_size)\n",
    "            state1_batch = torch.cat([s1 for (s1, a, r, s2, d) in minibatch])\n",
    "            action_batch = torch.Tensor([a for (s1, a, r, s2, d) in minibatch])\n",
    "            reward_batch = torch.Tensor([r for (s1, a, r, s2, d) in minibatch])\n",
    "            state2_batch = torch.cat([s2 for (s1, a, r, s2, d) in minibatch])\n",
    "            done_batch = torch.Tensor([d for (s1, a, r, s2, d) in minibatch])\n",
    "            Q1 = model(state1_batch)\n",
    "            with torch.no_grad():\n",
    "                Q2 = model2(state2_batch) # uses the target network to get the maximum Q value for the next state\n",
    "                \n",
    "            Y = reward_batch + gamma * ((1 - done_batch) * torch.max(Q2, dim=1)[0])\n",
    "            X = Q1.gather(dim=1, index=action_batch.long().unsqueeze(dim=1)).squeeze()\n",
    "            loss = loss_fn(X, Y.detach())\n",
    "            optimizer.zero_grad()\n",
    "            loss.backward()\n",
    "            losses.append(loss.item())\n",
    "            optimizer.step()\n",
    "            \n",
    "            if j % sync_freq == 0: # copies the main model parameters to the target network\n",
    "                model2.load_state_dict(model.state_dict())\n",
    "                \n",
    "        if reward != -1 or mov > max_moves:\n",
    "            status = 0\n",
    "            mov = 0\n",
    "            \n",
    "losses = np.array(losses)"
   ]
  },
  {
   "cell_type": "code",
   "execution_count": 36,
   "metadata": {},
   "outputs": [
    {
     "data": {
      "text/plain": [
       "Text(0, 0.5, 'Loss')"
      ]
     },
     "execution_count": 36,
     "metadata": {},
     "output_type": "execute_result"
    },
    {
     "data": {
      "image/png": "[encoded data removed]",
      "text/plain": [
       "<Figure size 720x504 with 1 Axes>"
      ]
     },
     "metadata": {
      "needs_background": "light"
     },
     "output_type": "display_data"
    }
   ],
   "source": [
    "plt.figure(figsize=(10,7))\n",
    "plt.plot(running_mean(losses, N=50))\n",
    "plt.xlabel(\"Epochs\", fontsize=22)\n",
    "plt.ylabel(\"Loss\", fontsize=22)"
   ]
  },
  {
   "cell_type": "code",
   "execution_count": 53,
   "metadata": {},
   "outputs": [
    {
     "name": "stdout",
     "output_type": "stream",
     "text": [
      "Games played: 1000, # of wins: 921\n",
      "Win percentage: 92.10000000000001%\n"
     ]
    }
   ],
   "source": [
    "max_games = 1000\n",
    "wins = 0\n",
    "for i in range(max_games):\n",
    "    win = test_model(model, size=4, mode='random', display=False)\n",
    "    if win:\n",
    "        wins += 1\n",
    "win_perc = float(wins) / float(max_games)\n",
    "print(\"Games played: {0}, # of wins: {1}\".format(max_games,wins))\n",
    "print(\"Win percentage: {}%\".format(100.0*win_perc))"
   ]
  },
  {
   "cell_type": "code",
   "execution_count": 54,
   "metadata": {},
   "outputs": [
    {
     "name": "stdout",
     "output_type": "stream",
     "text": [
      "Initial State:\n",
      "[[' ' ' ' 'W' ' ']\n",
      " ['+' ' ' ' ' ' ']\n",
      " [' ' ' ' ' ' ' ']\n",
      " [' ' ' ' 'P' '-']]\n",
      "Move #: 0; Taking action: l\n",
      "[[' ' ' ' 'W' ' ']\n",
      " ['+' ' ' ' ' ' ']\n",
      " [' ' ' ' ' ' ' ']\n",
      " [' ' 'P' ' ' '-']]\n",
      "Move #: 1; Taking action: u\n",
      "[[' ' ' ' 'W' ' ']\n",
      " ['+' ' ' ' ' ' ']\n",
      " [' ' 'P' ' ' ' ']\n",
      " [' ' ' ' ' ' '-']]\n",
      "Move #: 2; Taking action: l\n",
      "[[' ' ' ' 'W' ' ']\n",
      " ['+' ' ' ' ' ' ']\n",
      " ['P' ' ' ' ' ' ']\n",
      " [' ' ' ' ' ' '-']]\n",
      "Move #: 3; Taking action: u\n",
      "[[' ' ' ' 'W' ' ']\n",
      " ['+' ' ' ' ' ' ']\n",
      " [' ' ' ' ' ' ' ']\n",
      " [' ' ' ' ' ' '-']]\n",
      "Game won! Reward: 10\n"
     ]
    },
    {
     "data": {
      "text/plain": [
       "True"
      ]
     },
     "execution_count": 54,
     "metadata": {},
     "output_type": "execute_result"
    }
   ],
   "source": [
    "test_model(model, 4, mode='random')"
   ]
  },
  {
   "cell_type": "markdown",
   "metadata": {},
   "source": [
    "# Listing 9 (Extra)\n",
    "## 6x6 board"
   ]
  },
  {
   "cell_type": "code",
   "execution_count": 62,
   "metadata": {},
   "outputs": [],
   "source": [
    "l1 = 144\n",
    "l2 = 150\n",
    "l3 = 100\n",
    "l4 = 4\n",
    "\n",
    "model = torch.nn.Sequential(\n",
    "    torch.nn.Linear(l1, l2),\n",
    "    torch.nn.ReLU(),\n",
    "    torch.nn.Linear(l2, l3),\n",
    "    torch.nn.ReLU(),\n",
    "    torch.nn.Linear(l3, l4)\n",
    ")\n",
    "\n",
    "model2 = copy.deepcopy(model) # creates a second model by making an identical copy of the original Q-network model\n",
    "model2.load_state_dict(model.state_dict()) # copies the parameters of the original model\n",
    "\n",
    "sync_freq = 500 # sets que update frequency for synchronizing the target model parameters to the main DQN\n",
    "\n",
    "loss_fn = torch.nn.MSELoss()\n",
    "learning_rate = 1e-3\n",
    "optimizer = torch.optim.Adam(model.parameters(), lr=learning_rate)\n",
    "\n",
    "gamma = 0.9\n",
    "epsilon = 0.3"
   ]
  },
  {
   "cell_type": "code",
   "execution_count": null,
   "metadata": {},
   "outputs": [],
   "source": [
    "epochs = 5000\n",
    "losses = []\n",
    "mem_size = 1000\n",
    "batch_size = 200\n",
    "replay = deque(maxlen=mem_size)\n",
    "max_moves = 50\n",
    "j = 0\n",
    "\n",
    "for _ in range(epochs):\n",
    "    game = Gridworld(size=6, mode='random')\n",
    "    state1_ = game.board.render_np().reshape(1, 144) + np.random.rand(1, 144) / 100.0\n",
    "    state1 = torch.from_numpy(state1_).float()\n",
    "    status = 1\n",
    "    mov = 0\n",
    "    while status == 1:\n",
    "        j += 1\n",
    "        mov += 1\n",
    "        qval = model(state1)\n",
    "        qval_ = qval.data.numpy()\n",
    "        if (random.random() < epsilon):\n",
    "            action_ = np.random.randint(0, 4)\n",
    "        else:\n",
    "            action_ = np.argmax(qval_)\n",
    "            \n",
    "        action = action_set[action_]\n",
    "        game.makeMove(action)\n",
    "        state2_ = game.board.render_np().reshape(1, 144) + np.random.rand(1, 144) / 100.0\n",
    "        state2 = torch.from_numpy(state2_).float()\n",
    "        reward = game.reward()\n",
    "        done = True if reward > 0 else False\n",
    "        exp = (state1, action_, reward, state2, done)\n",
    "        replay.append(exp)\n",
    "        state1 = state2\n",
    "        \n",
    "        if len(replay) > batch_size:\n",
    "            minibatch = random.sample(replay, batch_size)\n",
    "            state1_batch = torch.cat([s1 for (s1, a, r, s2, d) in minibatch])\n",
    "            action_batch = torch.Tensor([a for (s1, a, r, s2, d) in minibatch])\n",
    "            reward_batch = torch.Tensor([r for (s1, a, r, s2, d) in minibatch])\n",
    "            state2_batch = torch.cat([s2 for (s1, a, r, s2, d) in minibatch])\n",
    "            done_batch = torch.Tensor([d for (s1, a, r, s2, d) in minibatch])\n",
    "            Q1 = model(state1_batch)\n",
    "            with torch.no_grad():\n",
    "                Q2 = model2(state2_batch) # uses the target network to get the maximum Q value for the next state\n",
    "                \n",
    "            Y = reward_batch * ((1 - done_batch) * torch.max(Q2, dim=1)[0])\n",
    "            X = Q1.gather(dim=1, index=action_batch.long().unsqueeze(dim=1)).squeeze()\n",
    "            loss = loss_fn(X, Y.detach())\n",
    "            optimizer.zero_grad()\n",
    "            loss.backward()\n",
    "            losses.append(loss.item())\n",
    "            optimizer.step()\n",
    "            \n",
    "            if j % sync_freq == 0: # copies the main model parameters to the target network\n",
    "                model2.load_state_dict(model.state_dict())\n",
    "                \n",
    "        if reward != -1 or mov > max_moves:\n",
    "            status = 0\n",
    "            mov = 0\n",
    "            \n",
    "losses = np.array(losses)"
   ]
  },
  {
   "cell_type": "code",
   "execution_count": null,
   "metadata": {},
   "outputs": [],
   "source": [
    "plt.figure(figsize=(10,7))\n",
    "plt.plot(running_mean(losses, N=50))\n",
    "plt.xlabel(\"Epochs\", fontsize=22)\n",
    "plt.ylabel(\"Loss\", fontsize=22)"
   ]
  },
  {
   "cell_type": "code",
   "execution_count": null,
   "metadata": {},
   "outputs": [],
   "source": [
    "max_games = 1000\n",
    "wins = 0\n",
    "for i in range(max_games):\n",
    "    win = test_model(model, size=4, mode='random', display=False)\n",
    "    if win:\n",
    "        wins += 1\n",
    "win_perc = float(wins) / float(max_games)\n",
    "print(\"Games played: {0}, # of wins: {1}\".format(max_games,wins))\n",
    "print(\"Win percentage: {}%\".format(100.0*win_perc))"
   ]
  },
  {
   "cell_type": "code",
   "execution_count": null,
   "metadata": {},
   "outputs": [],
   "source": [
    "test_model(model, 4, mode='random')"
   ]
  }
 ],
 "metadata": {
  "kernelspec": {
   "display_name": "Python 3",
   "language": "python",
   "name": "python3"
  },
  "language_info": {
   "codemirror_mode": {
    "name": "ipython",
    "version": 3
   },
   "file_extension": ".py",
   "mimetype": "text/x-python",
   "name": "python",
   "nbconvert_exporter": "python",
   "pygments_lexer": "ipython3",
   "version": "3.8.3"
  }
 },
 "nbformat": 4,
 "nbformat_minor": 4
}
